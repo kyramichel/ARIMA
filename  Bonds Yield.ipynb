{
 "cells": [
  {
   "cell_type": "markdown",
   "metadata": {},
   "source": [
    "\n",
    "# Bonds' Yield To Maturity with Python\n"
   ]
  },
  {
   "cell_type": "markdown",
   "metadata": {},
   "source": [
    "Bond's yield is an important in investment decision-making. \n",
    "\n",
    "Below I provide 3 methods of computing the YTM with Python.\n",
    "\n",
    "Let's start with a simple example:\n",
    "\n",
    "What amount should an investor be willing to pay for a USD1,000, 5-year bond which pays USD50 interest semiannually and is sold to yield 8 %?\n",
    "\n",
    "The bond value is calculated using the Bullet Bond Class b1 defined in my notebook @ https://github.com/kyramichel/Math_Finance/blob/master/Coupon%20Bonds1.pdf "
   ]
  },
  {
   "cell_type": "code",
   "execution_count": 1,
   "metadata": {},
   "outputs": [
    {
     "data": {
      "text/plain": [
       "1081.1089577935504"
      ]
     },
     "execution_count": 1,
     "metadata": {},
     "output_type": "execute_result"
    }
   ],
   "source": [
    "import b1\n",
    "price = b1.BulletBond(10,1000,0.05).Price(0.04)\n",
    "price"
   ]
  },
  {
   "cell_type": "markdown",
   "metadata": {},
   "source": [
    "NOTE: \n",
    "\n",
    "- There are 10 (=5x2) periods \n",
    "- The fixed coupon rate is 5% (=50/1000)\n",
    "- The semiannual interest is 4% (=8/2)\n",
    "\n",
    "The bond's yield is 8%. \n",
    "The yield to maturity (YTM) reflects the *annual* return that an investor will earn on a bond, if the investor purchases the bond today and holds it until maturity.\n",
    "\n",
    "\n"
   ]
  },
  {
   "cell_type": "markdown",
   "metadata": {},
   "source": [
    "### Expected Rate of Return on a Bond: Yield to Maturity \n",
    "\n",
    "\n",
    "The expected rate of return on a bond, known as the bond’s yield to maturity (YTM) or the yield to redemption is the internal rate of return (IRR) on a bond’s expected cash flows. \n",
    "\n",
    "If the bond’s price is known, then YTM is the discount rate that equates the present value (PV) of the bond’s expected cash flows until maturity with the bond’s price. That is, the yield-to-maturity is the solution for the rate, r, in the bond valuation model:\n",
    "\n",
    "Price (bond) = PV (expected cash flow) \n",
    "\n",
    "or, equivalent\n",
    "\n",
    "NPV = 0 \n",
    "\n",
    "Below is the formula for calculating bond's price using the time-value-of-money calculation to obtain the present value (PV) for a market discount rate:\n"
   ]
  },
  {
   "cell_type": "markdown",
   "metadata": {},
   "source": [
    "### Calculating  Yield to Maturity:\n",
    "\n",
    "There are several ways to find YTM.  \n",
    "\n",
    "#### Method 1: Trial & error: "
   ]
  },
  {
   "cell_type": "markdown",
   "metadata": {},
   "source": [
    "First, one must recall the relationship between: Price - Yield to Maturity\n",
    "\n",
    "As shown in https://github.com/kyramichel/Math_Finance/blob/master/Coupon%20Bonds1.pdf\n",
    "the price of a fixed-rate security depends on the relationship between its yield to maturity (r) and the interest rate (c). That is:\n",
    "\n",
    "- if the yield to maturity is greater than the interest rate: the price will be less than par value\n",
    "\n",
    "- if the the yield to maturity is equal to the interest rate: the price will be equal to par; \n",
    "\n",
    "- if the yield to maturity is less than the interest rate, the price will be greater than par. \n",
    " \n",
    " "
   ]
  },
  {
   "cell_type": "markdown",
   "metadata": {},
   "source": [
    "### Example 2: \n",
    "\n",
    "\n",
    "Suppose an investor is offered a 10-year, 8% coupon, USD 1,000 par value bond at a market price of \n",
    "USD877.07. What rate of return could the investor earn if buys the bond & holds it to maturity?\n",
    "In other words, what is the investor's expected rate of return or the YTM?\n",
    "\n",
    "To find YTM, notice that since the bond is selling at a discount (bond's market price is less than the par value: 877.07 < 1000), the bond's yield is above the coupon rate of 8%. \n",
    "\n",
    "By trying & error, we can try substitution a rate of 9 percent in the bond valuation model:"
   ]
  },
  {
   "cell_type": "code",
   "execution_count": 2,
   "metadata": {},
   "outputs": [
    {
     "data": {
      "text/plain": [
       "935.8234229884099"
      ]
     },
     "execution_count": 2,
     "metadata": {},
     "output_type": "execute_result"
    }
   ],
   "source": [
    "price = b1.BulletBond(10,1000, 0.08).Price(0.09)\n",
    "price"
   ]
  },
  {
   "cell_type": "markdown",
   "metadata": {},
   "source": [
    "The calculated bond value is above the actual market price (935.82 > 877.07), it means that the yield is not 9 percent. \n",
    "To lower the calculated bond value, the rate must be raised. \n",
    "\n",
    "Trying 10 percent it gives:"
   ]
  },
  {
   "cell_type": "code",
   "execution_count": 3,
   "metadata": {},
   "outputs": [
    {
     "data": {
      "text/plain": [
       "877.1086578859063"
      ]
     },
     "execution_count": 3,
     "metadata": {},
     "output_type": "execute_result"
    }
   ],
   "source": [
    "price = b1.BulletBond(10,1000, 0.08).Price(0.10)\n",
    "price"
   ]
  },
  {
   "cell_type": "markdown",
   "metadata": {},
   "source": [
    "Since this calculated value is exactly the market price of the bond:\n",
    "\n",
    "YTM = 10%"
   ]
  },
  {
   "cell_type": "markdown",
   "metadata": {},
   "source": [
    "#### Method 2: \n",
    "\n",
    "The following formula can be used to approximate yield to maturity on a bond:\n",
    "\n",
    "YTM $= \\frac{C + (M-Price)/n}{(M+ V)/2}$"
   ]
  },
  {
   "cell_type": "code",
   "execution_count": 4,
   "metadata": {},
   "outputs": [
    {
     "name": "stdout",
     "output_type": "stream",
     "text": [
      "Overwriting y1.py\n"
     ]
    }
   ],
   "source": [
    "%%writefile y1.py\n",
    "\n",
    "import math \n",
    "\n",
    "class BulletBond:\n",
    "    def __init__(self, n, M, c):\n",
    "        self.n = n\n",
    "        self.M = M\n",
    "        self.c = c\n",
    "\n",
    "    def Price(self, r): \n",
    "        return self.c * self.M *(1 - math.pow(1+r,-self.n))/r + self.M * math.pow(1+r,-self.n)\n",
    "    \n",
    "    def YTM(self, n, price):\n",
    "        return (2* self.c * self.M + 2*(self.M - price)/self.n)/(self.M + price)\n",
    "    "
   ]
  },
  {
   "cell_type": "code",
   "execution_count": 5,
   "metadata": {},
   "outputs": [],
   "source": [
    "import y1"
   ]
  },
  {
   "cell_type": "markdown",
   "metadata": {},
   "source": [
    "Based on the same data from Example 2 and using the formula for approximating the rate of return on the bond: "
   ]
  },
  {
   "cell_type": "code",
   "execution_count": 6,
   "metadata": {},
   "outputs": [
    {
     "data": {
      "text/plain": [
       "0.09825308904985088"
      ]
     },
     "execution_count": 6,
     "metadata": {},
     "output_type": "execute_result"
    }
   ],
   "source": [
    "ytm = y1.BulletBond(10,1000, 0.08).YTM(10, 877.60)\n",
    "ytm"
   ]
  },
  {
   "cell_type": "markdown",
   "metadata": {},
   "source": [
    "The approximated value 9.8% is indeed very close to the exact rate of 10%."
   ]
  },
  {
   "cell_type": "markdown",
   "metadata": {},
   "source": [
    "#### Method 3\n",
    "\n",
    "Using numeric approximation.\n",
    "\n",
    "Based on the same data from Example 2 and using scipy optimize.newton:"
   ]
  },
  {
   "cell_type": "code",
   "execution_count": 10,
   "metadata": {},
   "outputs": [],
   "source": [
    "import math\n",
    "YTM = lambda r: 80 *(1 - math.pow(1+r,-10))/r + 1000 * math.pow(1+r,-10) - 877.108"
   ]
  },
  {
   "cell_type": "code",
   "execution_count": 11,
   "metadata": {},
   "outputs": [
    {
     "data": {
      "text/plain": [
       "0.10000011713160618"
      ]
     },
     "execution_count": 11,
     "metadata": {},
     "output_type": "execute_result"
    }
   ],
   "source": [
    "import scipy\n",
    "from scipy import optimize\n",
    "optimize.newton(YTM, 0.05)"
   ]
  },
  {
   "cell_type": "markdown",
   "metadata": {},
   "source": [
    "The calculated value is exactly YTM = 10%"
   ]
  }
 ],
 "metadata": {
  "kernelspec": {
   "display_name": "Python 3",
   "language": "python",
   "name": "python3"
  },
  "language_info": {
   "codemirror_mode": {
    "name": "ipython",
    "version": 3
   },
   "file_extension": ".py",
   "mimetype": "text/x-python",
   "name": "python",
   "nbconvert_exporter": "python",
   "pygments_lexer": "ipython3",
   "version": "3.8.3"
  }
 },
 "nbformat": 4,
 "nbformat_minor": 4
}
