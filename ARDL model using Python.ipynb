{
 "cells": [
  {
   "cell_type": "markdown",
   "id": "c3e269d0",
   "metadata": {},
   "source": [
    "#  ARDL model for Time Series forecasting"
   ]
  },
  {
   "cell_type": "markdown",
   "id": "74a89585",
   "metadata": {},
   "source": [
    "This notebook will go over the ARDL model.\n",
    "\n",
    "ARDL stands for Autoregressive Distributed Lag. The ARDL model is a combination of the Autoregressive (AR) - a linear component with self-lagged values and Distributed Lag (DL) - a weighted sum of lagged versions of some exogenous variable(s).\n",
    "\n",
    "The ARDL model is pretty flexible and it can handle situations where some variables are I(0) (integrated of order 0, meaning they are stationary) and others are I(1) (integrated of order 1, meaning they have a unit root and are non-stationary). That is, the ARDL model also works for non-stationary variables i.e., variables that have trends and do not have a constant mean and variance over time.\n",
    "\n",
    "One popular use of ARDL is Time Series forecasting  of variables that are dependent on macro-economic conditions. "
   ]
  },
  {
   "cell_type": "markdown",
   "id": "33fba646",
   "metadata": {},
   "source": [
    "The general formula of an ARDL model of order (p, q) is:\n",
    "    \n",
    "y_t = b_0 + b_1 * y_t-1 + ... b_p * y_t-p + c_0 * x + c_1 * x_t-1 + c_q * x_t-q + epsilon\n",
    "\n",
    "\n",
    "Below is the equation of ARDL(1, 1) model written using sympy library in Python:"
   ]
  },
  {
   "cell_type": "code",
   "execution_count": 1,
   "id": "efc49793",
   "metadata": {},
   "outputs": [
    {
     "name": "stdout",
     "output_type": "stream",
     "text": [
      "Eq(y, beta_0 + beta_1*y_lag1 + epsilon + gamma_0*x + gamma_1*x_lag1)\n"
     ]
    }
   ],
   "source": [
    "import sympy as sp\n",
    "\n",
    "# Define symbols\n",
    "y, x = sp.symbols('y x')\n",
    "y_lag1, x_lag1 = sp.symbols('y_lag1 x_lag1')  # Lagged variables (order 1)\n",
    "\n",
    "# Define ARDL equation\n",
    "# For example, an ARDL(1, 1, 1, 1) model can be written as follows:\n",
    "# ARDL(1, 1, 1, 1) model equation:\n",
    "# y = beta_0 + beta_1 * y_lag1 + gamma_0 * x + gamma_1 * x_lag1 + epsilon\n",
    "\n",
    "# Coefficients\n",
    "beta_0, beta_1, gamma_0, gamma_1 = sp.symbols('beta_0 beta_1 gamma_0 gamma_1')\n",
    "\n",
    "# Error term\n",
    "epsilon = sp.symbols('epsilon')\n",
    "\n",
    "# ARDL equation\n",
    "ardl_equation = sp.Eq(y, beta_0 + beta_1 * y_lag1 + gamma_0 * x + gamma_1 * x_lag1 + epsilon)\n",
    "\n",
    "# Display the equation\n",
    "print(ardl_equation)\n"
   ]
  },
  {
   "cell_type": "markdown",
   "id": "69d83bf8",
   "metadata": {},
   "source": [
    "###  Build an ARDL model"
   ]
  },
  {
   "cell_type": "code",
   "execution_count": 2,
   "id": "08a21e06",
   "metadata": {},
   "outputs": [],
   "source": [
    "#import the libraries\n",
    "\n",
    "import pandas as pd\n",
    "import numpy as np\n",
    "import matplotlib.pyplot as plt\n",
    "import statsmodels.api as sm\n",
    "from statsmodels.tsa.api import ARDL\n",
    "from statsmodels.tsa.stattools import adfuller, kpss"
   ]
  },
  {
   "cell_type": "markdown",
   "id": "96be5c5d",
   "metadata": {},
   "source": [
    "### Example: \n",
    "\n",
    "Analyse the long-run relationship between the variables: GDP and Investment"
   ]
  },
  {
   "cell_type": "code",
   "execution_count": 3,
   "id": "226faf15",
   "metadata": {},
   "outputs": [
    {
     "data": {
      "text/html": [
       "<div>\n",
       "<style scoped>\n",
       "    .dataframe tbody tr th:only-of-type {\n",
       "        vertical-align: middle;\n",
       "    }\n",
       "\n",
       "    .dataframe tbody tr th {\n",
       "        vertical-align: top;\n",
       "    }\n",
       "\n",
       "    .dataframe thead th {\n",
       "        text-align: right;\n",
       "    }\n",
       "</style>\n",
       "<table border=\"1\" class=\"dataframe\">\n",
       "  <thead>\n",
       "    <tr style=\"text-align: right;\">\n",
       "      <th></th>\n",
       "      <th>GDP</th>\n",
       "      <th>Investment</th>\n",
       "    </tr>\n",
       "  </thead>\n",
       "  <tbody>\n",
       "    <tr>\n",
       "      <th>0</th>\n",
       "      <td>102.483571</td>\n",
       "      <td>25.753888</td>\n",
       "    </tr>\n",
       "    <tr>\n",
       "      <th>1</th>\n",
       "      <td>99.808678</td>\n",
       "      <td>28.938064</td>\n",
       "    </tr>\n",
       "    <tr>\n",
       "      <th>2</th>\n",
       "      <td>104.238443</td>\n",
       "      <td>29.371856</td>\n",
       "    </tr>\n",
       "    <tr>\n",
       "      <th>3</th>\n",
       "      <td>109.115149</td>\n",
       "      <td>28.193168</td>\n",
       "    </tr>\n",
       "    <tr>\n",
       "      <th>4</th>\n",
       "      <td>100.829233</td>\n",
       "      <td>30.316143</td>\n",
       "    </tr>\n",
       "    <tr>\n",
       "      <th>...</th>\n",
       "      <td>...</td>\n",
       "      <td>...</td>\n",
       "    </tr>\n",
       "    <tr>\n",
       "      <th>95</th>\n",
       "      <td>140.182425</td>\n",
       "      <td>50.155952</td>\n",
       "    </tr>\n",
       "    <tr>\n",
       "      <th>96</th>\n",
       "      <td>149.480601</td>\n",
       "      <td>46.548428</td>\n",
       "    </tr>\n",
       "    <tr>\n",
       "      <th>97</th>\n",
       "      <td>149.805276</td>\n",
       "      <td>49.861175</td>\n",
       "    </tr>\n",
       "    <tr>\n",
       "      <th>98</th>\n",
       "      <td>149.025567</td>\n",
       "      <td>49.774626</td>\n",
       "    </tr>\n",
       "    <tr>\n",
       "      <th>99</th>\n",
       "      <td>148.327064</td>\n",
       "      <td>46.371089</td>\n",
       "    </tr>\n",
       "  </tbody>\n",
       "</table>\n",
       "<p>100 rows × 2 columns</p>\n",
       "</div>"
      ],
      "text/plain": [
       "           GDP  Investment\n",
       "0   102.483571   25.753888\n",
       "1    99.808678   28.938064\n",
       "2   104.238443   29.371856\n",
       "3   109.115149   28.193168\n",
       "4   100.829233   30.316143\n",
       "..         ...         ...\n",
       "95  140.182425   50.155952\n",
       "96  149.480601   46.548428\n",
       "97  149.805276   49.861175\n",
       "98  149.025567   49.774626\n",
       "99  148.327064   46.371089\n",
       "\n",
       "[100 rows x 2 columns]"
      ]
     },
     "execution_count": 3,
     "metadata": {},
     "output_type": "execute_result"
    }
   ],
   "source": [
    "# generate sample data for GDP and Investment\n",
    "np.random.seed(42)\n",
    "num_periods = 100\n",
    "t = np.arange(num_periods)\n",
    "gdp = 100 + 0.5 * t + np.random.normal(0, 5, num_periods)\n",
    "investment = 30 + 0.2 * t + np.random.normal(0, 3, num_periods)\n",
    "\n",
    "# Create a DataFrame\n",
    "data = pd.DataFrame({\n",
    "    'GDP': gdp,\n",
    "    'Investment': investment\n",
    "})\n",
    "\n",
    "data"
   ]
  },
  {
   "cell_type": "markdown",
   "id": "638309f7",
   "metadata": {},
   "source": [
    "#### Augmented Ducky Fuller (ADF) Test of Stationarity:\n",
    "\n",
    "H0: Time series is not stationary\n",
    "\n",
    "H1: Time series is stationary"
   ]
  },
  {
   "cell_type": "code",
   "execution_count": 4,
   "id": "363e22d8",
   "metadata": {},
   "outputs": [],
   "source": [
    "# Check if the variables are stationary (I(0)) or non-stationary (I(1))\n",
    "def check_stationarity(data):\n",
    "    result = adfuller(data)\n",
    "    p_value = result[1]\n",
    "    if p_value <= 0.05:\n",
    "        return True\n",
    "    else:\n",
    "        return False\n"
   ]
  },
  {
   "cell_type": "code",
   "execution_count": 5,
   "id": "73c96ca8",
   "metadata": {},
   "outputs": [
    {
     "name": "stderr",
     "output_type": "stream",
     "text": [
      "C:\\Users\\laptop\\anaconda3\\lib\\site-packages\\statsmodels\\tsa\\base\\tsa_model.py:473: ValueWarning: An unsupported index was provided and will be ignored when e.g. forecasting.\n",
      "  self._init_dates(dates, freq)\n"
     ]
    },
    {
     "name": "stdout",
     "output_type": "stream",
     "text": [
      "                              ARDL Model Results                              \n",
      "==============================================================================\n",
      "Dep. Variable:                    GDP   No. Observations:                   99\n",
      "Model:               ARDL(0, 0, 0, 0)   Log Likelihood                -319.397\n",
      "Method:               Conditional MLE   S.D. of innovations              6.094\n",
      "Date:                Wed, 26 Jul 2023   AIC                            646.795\n",
      "Time:                        00:16:52   BIC                            657.175\n",
      "Sample:                             0   HQIC                           650.995\n",
      "                                   99                                         \n",
      "======================================================================================\n",
      "                         coef    std err          z      P>|z|      [0.025      0.975]\n",
      "--------------------------------------------------------------------------------------\n",
      "GDP_lag1.L0            0.7409      0.074     10.043      0.000       0.594       0.887\n",
      "Investment.L0          0.3520      0.193      1.825      0.071      -0.031       0.735\n",
      "Investment_lag1.L0     0.4575      0.181      2.522      0.013       0.097       0.817\n",
      "======================================================================================\n"
     ]
    },
    {
     "data": {
      "image/png": "[encoded data removed]",
      "text/plain": [
       "<Figure size 432x288 with 1 Axes>"
      ]
     },
     "metadata": {
      "needs_background": "light"
     },
     "output_type": "display_data"
    }
   ],
   "source": [
    "\n",
    "# Create lagged variables\n",
    "data['GDP_lag1'] = data['GDP'].shift(1)\n",
    "data['Investment_lag1'] = data['Investment'].shift(1)\n",
    "\n",
    "# Drop rows with NaN values (due to the creation of lags)\n",
    "data = data.dropna()\n",
    "\n",
    "# Define the ARDL(1,1) model formula\n",
    "formula = 'GDP ~ GDP_lag1 + Investment + Investment_lag1'\n",
    "\n",
    "# Fit the ARDL model using the formula\n",
    "model = sm.tsa.ARDL.from_formula(formula, data)\n",
    "\n",
    "# Estimate the model\n",
    "results = model.fit()\n",
    "\n",
    "# Print the model summary\n",
    "print(results.summary())\n",
    "\n",
    "# Plot the actual GDP and Investment data along with the predicted GDP\n",
    "plt.plot(data.index, data['GDP'], label='Actual GDP')\n",
    "plt.plot(data.index, results.fittedvalues, label='Predicted GDP', linestyle='dashed')\n",
    "plt.xlabel('Time')\n",
    "plt.ylabel('GDP')\n",
    "plt.legend()\n",
    "plt.title('ARDL Model: Actual GDP vs. Predicted GDP')\n",
    "plt.show()\n"
   ]
  },
  {
   "cell_type": "markdown",
   "id": "d3d8796a",
   "metadata": {},
   "source": [
    "Remarks:\n",
    "    \n",
    "1)In this example, I used GDP lags of order 1 and Investment lags of order 1. \n",
    "You can adjust the formula based on your specific ARDL model requirements.\n",
    "\n",
    "2)Please note that since I used random noise to \n",
    "generate the sample dataset, the results will vary each time you run the code. \n",
    "In a real-world scenario, you would use your own dataset for GDP and \n",
    "investment to estimate the ARDL model.\n"
   ]
  },
  {
   "cell_type": "code",
   "execution_count": null,
   "id": "6332f683",
   "metadata": {},
   "outputs": [],
   "source": []
  }
 ],
 "metadata": {
  "kernelspec": {
   "display_name": "Python 3 (ipykernel)",
   "language": "python",
   "name": "python3"
  },
  "language_info": {
   "codemirror_mode": {
    "name": "ipython",
    "version": 3
   },
   "file_extension": ".py",
   "mimetype": "text/x-python",
   "name": "python",
   "nbconvert_exporter": "python",
   "pygments_lexer": "ipython3",
   "version": "3.9.12"
  }
 },
 "nbformat": 4,
 "nbformat_minor": 5
}
