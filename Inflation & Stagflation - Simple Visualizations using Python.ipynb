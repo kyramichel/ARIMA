{
 "cells": [
  {
   "cell_type": "markdown",
   "id": "e76bc7a1",
   "metadata": {},
   "source": [
    "# Inflation & Stagflation: Simple Visualization using Python"
   ]
  },
  {
   "cell_type": "markdown",
   "id": "58c862dc",
   "metadata": {},
   "source": [
    "According to the World Bank’s Global Economic Prospects reports, inflation has worsened around the world and the risk of stagflation is high."
   ]
  },
  {
   "cell_type": "markdown",
   "id": "208ce2b9",
   "metadata": {},
   "source": [
    "Economics terms:\n",
    "\n",
    "**Inflation** refers to a general increase in prices and fall in the purchasing value of money.\n",
    "\n",
    "**Stagflation** refers to persistent high inflation combined with slow growth rate and high unemployment in an economy.\n",
    "\n"
   ]
  },
  {
   "cell_type": "markdown",
   "id": "79f77fb1",
   "metadata": {},
   "source": [
    "# How inflation is measured?\n",
    "\n",
    "A common inflation metric used is the percent change in Consumer Price Index (CPI)"
   ]
  },
  {
   "cell_type": "markdown",
   "id": "64d997d4",
   "metadata": {},
   "source": [
    "#### Get the CPI  data \n",
    "\n",
    "https://fred.stlouisfed.org/series/CPIAUCSL\n"
   ]
  },
  {
   "cell_type": "code",
   "execution_count": 2,
   "id": "47cfbb62",
   "metadata": {},
   "outputs": [
    {
     "data": {
      "text/html": [
       "<div>\n",
       "<style scoped>\n",
       "    .dataframe tbody tr th:only-of-type {\n",
       "        vertical-align: middle;\n",
       "    }\n",
       "\n",
       "    .dataframe tbody tr th {\n",
       "        vertical-align: top;\n",
       "    }\n",
       "\n",
       "    .dataframe thead th {\n",
       "        text-align: right;\n",
       "    }\n",
       "</style>\n",
       "<table border=\"1\" class=\"dataframe\">\n",
       "  <thead>\n",
       "    <tr style=\"text-align: right;\">\n",
       "      <th></th>\n",
       "      <th>CPIAUCSL</th>\n",
       "    </tr>\n",
       "    <tr>\n",
       "      <th>DATE</th>\n",
       "      <th></th>\n",
       "    </tr>\n",
       "  </thead>\n",
       "  <tbody>\n",
       "    <tr>\n",
       "      <th>2022-03-01</th>\n",
       "      <td>287.708</td>\n",
       "    </tr>\n",
       "    <tr>\n",
       "      <th>2022-04-01</th>\n",
       "      <td>288.663</td>\n",
       "    </tr>\n",
       "    <tr>\n",
       "      <th>2022-05-01</th>\n",
       "      <td>291.474</td>\n",
       "    </tr>\n",
       "    <tr>\n",
       "      <th>2022-06-01</th>\n",
       "      <td>295.328</td>\n",
       "    </tr>\n",
       "    <tr>\n",
       "      <th>2022-07-01</th>\n",
       "      <td>295.271</td>\n",
       "    </tr>\n",
       "  </tbody>\n",
       "</table>\n",
       "</div>"
      ],
      "text/plain": [
       "            CPIAUCSL\n",
       "DATE                \n",
       "2022-03-01   287.708\n",
       "2022-04-01   288.663\n",
       "2022-05-01   291.474\n",
       "2022-06-01   295.328\n",
       "2022-07-01   295.271"
      ]
     },
     "execution_count": 2,
     "metadata": {},
     "output_type": "execute_result"
    }
   ],
   "source": [
    "\n",
    "import pandas as pd \n",
    "import datetime as dt\n",
    "\n",
    "import pandas_datareader.data as web\n",
    "start = dt.datetime(2010, 7, 1)\n",
    "end = dt.datetime(2022, 7, 1)\n",
    "cpi = web.DataReader('CPIAUCSL', 'fred', start, end)\n",
    "\n",
    "\n",
    "cpi.to_csv(\"cpi.csv\")\n",
    "cpi = pd.read_csv(\"cpi.csv\", index_col=\"DATE\", parse_dates=True)\n",
    "\n",
    "cpi.tail()"
   ]
  },
  {
   "cell_type": "code",
   "execution_count": 3,
   "id": "74cabc94",
   "metadata": {},
   "outputs": [],
   "source": [
    "#change in cpi\n",
    "inflation= cpi / cpi.shift(12) * 100 - 100"
   ]
  },
  {
   "cell_type": "code",
   "execution_count": 4,
   "id": "c6189c91",
   "metadata": {},
   "outputs": [
    {
     "data": {
      "image/png": "[encoded data removed]",
      "text/plain": [
       "<Figure size 576x288 with 1 Axes>"
      ]
     },
     "metadata": {
      "needs_background": "light"
     },
     "output_type": "display_data"
    }
   ],
   "source": [
    "import matplotlib.pyplot as plt\n",
    "\n",
    "plt.figure(figsize=(8, 4))\n",
    "\n",
    "plt.plot(inflation)\n",
    "\n",
    "plt.xlabel(\"Date\")\n",
    "plt.ylabel(\"Inflation\")\n",
    "\n",
    "plt.show()"
   ]
  },
  {
   "cell_type": "markdown",
   "id": "48de1ea2",
   "metadata": {},
   "source": [
    "As the graph shows, inflation is rising!"
   ]
  },
  {
   "cell_type": "markdown",
   "id": "e8aa9d67",
   "metadata": {},
   "source": [
    "# How is stagflation measured?\n",
    "\n",
    "By examining the direction of several economic indicators over a period of time e.g. interest rates, unemployment are high, economic index prices.. \n",
    "\n"
   ]
  },
  {
   "cell_type": "markdown",
   "id": "57dbfdd6",
   "metadata": {},
   "source": [
    "### Get the economic indicators data: interest rate and unemployment\n",
    "\n",
    "\n",
    "#### 1, Using API request to get interest rate and unemployment\n",
    "\n",
    "DBnomics Web API: https://api.db.nomics.world/v22/apidocs"
   ]
  },
  {
   "cell_type": "code",
   "execution_count": 5,
   "id": "f455d184",
   "metadata": {},
   "outputs": [
    {
     "data": {
      "text/html": [
       "<div>\n",
       "<style scoped>\n",
       "    .dataframe tbody tr th:only-of-type {\n",
       "        vertical-align: middle;\n",
       "    }\n",
       "\n",
       "    .dataframe tbody tr th {\n",
       "        vertical-align: top;\n",
       "    }\n",
       "\n",
       "    .dataframe thead th {\n",
       "        text-align: right;\n",
       "    }\n",
       "</style>\n",
       "<table border=\"1\" class=\"dataframe\">\n",
       "  <thead>\n",
       "    <tr style=\"text-align: right;\">\n",
       "      <th></th>\n",
       "      <th>Interest rates - monthly data</th>\n",
       "    </tr>\n",
       "  </thead>\n",
       "  <tbody>\n",
       "    <tr>\n",
       "      <th>2019-09</th>\n",
       "      <td>0.29</td>\n",
       "    </tr>\n",
       "    <tr>\n",
       "      <th>2019-10</th>\n",
       "      <td>0.35</td>\n",
       "    </tr>\n",
       "    <tr>\n",
       "      <th>2019-11</th>\n",
       "      <td>0.50</td>\n",
       "    </tr>\n",
       "    <tr>\n",
       "      <th>2019-12</th>\n",
       "      <td>0.55</td>\n",
       "    </tr>\n",
       "    <tr>\n",
       "      <th>2020-01</th>\n",
       "      <td>0.52</td>\n",
       "    </tr>\n",
       "  </tbody>\n",
       "</table>\n",
       "</div>"
      ],
      "text/plain": [
       "         Interest rates - monthly data\n",
       "2019-09                           0.29\n",
       "2019-10                           0.35\n",
       "2019-11                           0.50\n",
       "2019-12                           0.55\n",
       "2020-01                           0.52"
      ]
     },
     "execution_count": 5,
     "metadata": {},
     "output_type": "execute_result"
    }
   ],
   "source": [
    "url = 'https://api.db.nomics.world/v22/series/Eurostat/ei_mfir_m/M.NSA.NAP.MF-LTGBY-RT.EU28?observations=1'\n",
    "\n",
    "# get data from the above URL using the requests package\n",
    "\n",
    "import requests\n",
    "r = requests.get(url).json()\n",
    "\n",
    "# Load data into a dataframe\n",
    "periods = r['series']['docs'][0]['period']\n",
    "values = r['series']['docs'][0]['value']\n",
    "dataset = r['series']['docs'][0]['dataset_name']\n",
    "interest_ts = pd.DataFrame(values,index=periods)\n",
    "interest_ts.columns = [dataset]\n",
    "  \n",
    "\n",
    "interest_ts.tail()\n"
   ]
  },
  {
   "cell_type": "code",
   "execution_count": 6,
   "id": "32c1a975",
   "metadata": {},
   "outputs": [
    {
     "data": {
      "text/html": [
       "<div>\n",
       "<style scoped>\n",
       "    .dataframe tbody tr th:only-of-type {\n",
       "        vertical-align: middle;\n",
       "    }\n",
       "\n",
       "    .dataframe tbody tr th {\n",
       "        vertical-align: top;\n",
       "    }\n",
       "\n",
       "    .dataframe thead th {\n",
       "        text-align: right;\n",
       "    }\n",
       "</style>\n",
       "<table border=\"1\" class=\"dataframe\">\n",
       "  <thead>\n",
       "    <tr style=\"text-align: right;\">\n",
       "      <th></th>\n",
       "      <th>Unemployment by sex and age – monthly data</th>\n",
       "    </tr>\n",
       "  </thead>\n",
       "  <tbody>\n",
       "    <tr>\n",
       "      <th>2022-05</th>\n",
       "      <td>6.5</td>\n",
       "    </tr>\n",
       "    <tr>\n",
       "      <th>2022-06</th>\n",
       "      <td>6.4</td>\n",
       "    </tr>\n",
       "    <tr>\n",
       "      <th>2022-07</th>\n",
       "      <td>6.6</td>\n",
       "    </tr>\n",
       "    <tr>\n",
       "      <th>2022-08</th>\n",
       "      <td>6.7</td>\n",
       "    </tr>\n",
       "    <tr>\n",
       "      <th>2022-09</th>\n",
       "      <td>6.6</td>\n",
       "    </tr>\n",
       "  </tbody>\n",
       "</table>\n",
       "</div>"
      ],
      "text/plain": [
       "         Unemployment by sex and age – monthly data\n",
       "2022-05                                         6.5\n",
       "2022-06                                         6.4\n",
       "2022-07                                         6.6\n",
       "2022-08                                         6.7\n",
       "2022-09                                         6.6"
      ]
     },
     "execution_count": 6,
     "metadata": {},
     "output_type": "execute_result"
    }
   ],
   "source": [
    "url = 'https://api.db.nomics.world/v22/series/Eurostat/une_rt_m/M.NSA.TOTAL.PC_ACT.T.EA19?observations=1'\n",
    "r = requests.get(url).json()\n",
    "periods = r['series']['docs'][0]['period']\n",
    "values = r['series']['docs'][0]['value']\n",
    "dataset = r['series']['docs'][0]['dataset_name']\n",
    "unemployment = pd.DataFrame(values,index=periods)\n",
    "unemployment.columns = [dataset]\n",
    "  \n",
    "unemployment.tail()\n"
   ]
  },
  {
   "cell_type": "markdown",
   "id": "b5bf98b5",
   "metadata": {},
   "source": [
    "#### 2. Getting economic data from the World Bank using Pandas-datareader:"
   ]
  },
  {
   "cell_type": "code",
   "execution_count": 7,
   "id": "277e1e77",
   "metadata": {},
   "outputs": [
    {
     "data": {
      "text/html": [
       "<div>\n",
       "<style scoped>\n",
       "    .dataframe tbody tr th:only-of-type {\n",
       "        vertical-align: middle;\n",
       "    }\n",
       "\n",
       "    .dataframe tbody tr th {\n",
       "        vertical-align: top;\n",
       "    }\n",
       "\n",
       "    .dataframe thead th {\n",
       "        text-align: right;\n",
       "    }\n",
       "</style>\n",
       "<table border=\"1\" class=\"dataframe\">\n",
       "  <thead>\n",
       "    <tr style=\"text-align: right;\">\n",
       "      <th></th>\n",
       "      <th>Interest_rate</th>\n",
       "      <th>Unemployment</th>\n",
       "    </tr>\n",
       "    <tr>\n",
       "      <th>year</th>\n",
       "      <th></th>\n",
       "      <th></th>\n",
       "    </tr>\n",
       "  </thead>\n",
       "  <tbody>\n",
       "    <tr>\n",
       "      <th>2017</th>\n",
       "      <td>2.157870</td>\n",
       "      <td>4.360</td>\n",
       "    </tr>\n",
       "    <tr>\n",
       "      <th>2018</th>\n",
       "      <td>2.456470</td>\n",
       "      <td>3.900</td>\n",
       "    </tr>\n",
       "    <tr>\n",
       "      <th>2019</th>\n",
       "      <td>3.432389</td>\n",
       "      <td>3.670</td>\n",
       "    </tr>\n",
       "    <tr>\n",
       "      <th>2020</th>\n",
       "      <td>2.311078</td>\n",
       "      <td>8.050</td>\n",
       "    </tr>\n",
       "    <tr>\n",
       "      <th>2021</th>\n",
       "      <td>-0.869249</td>\n",
       "      <td>5.464</td>\n",
       "    </tr>\n",
       "  </tbody>\n",
       "</table>\n",
       "</div>"
      ],
      "text/plain": [
       "      Interest_rate  Unemployment\n",
       "year                             \n",
       "2017       2.157870         4.360\n",
       "2018       2.456470         3.900\n",
       "2019       3.432389         3.670\n",
       "2020       2.311078         8.050\n",
       "2021      -0.869249         5.464"
      ]
     },
     "execution_count": 7,
     "metadata": {},
     "output_type": "execute_result"
    }
   ],
   "source": [
    "from pandas_datareader import wb\n",
    "\n",
    "data = wb.download(indicator=['SL.UEM.TOTL.ZS', 'FR.INR.RINR'], country=['US'], start=2010, end=2022)\n",
    "\n",
    "unemployment = data.unstack().T.loc['SL.UEM.TOTL.ZS']\n",
    "unemployment.columns = ['Unemployment']\n",
    "\n",
    "interest_rate = data.unstack().T.loc['FR.INR.RINR']\n",
    "interest_rate.columns = ['Interest_rate']\n",
    "\n",
    "df = interest_rate.join(unemployment)\n",
    "df.tail()"
   ]
  },
  {
   "cell_type": "markdown",
   "id": "d43c1518",
   "metadata": {},
   "source": [
    "#### Plotting interest rate and unemployment:"
   ]
  },
  {
   "cell_type": "code",
   "execution_count": 8,
   "id": "ab6c7af1",
   "metadata": {},
   "outputs": [
    {
     "data": {
      "image/png": "[encoded data removed]",
      "text/plain": [
       "<Figure size 576x288 with 1 Axes>"
      ]
     },
     "metadata": {
      "needs_background": "light"
     },
     "output_type": "display_data"
    }
   ],
   "source": [
    "\n",
    "fig,ax = plt.subplots(figsize=(8,4))\n",
    "\n",
    "y1 = df['Unemployment']\n",
    "y2 =df['Interest_rate']\n",
    "\n",
    "ax.plot(y1, label = \"US Interest Rate\")\n",
    "ax.plot(y2, label = \"US Unemployment\")\n",
    "\n",
    "ax.legend()\n",
    "plt.show()\n",
    "\n",
    "#save graph\n",
    "fig.savefig(\"stagflation1.png\", dpi=123)"
   ]
  },
  {
   "cell_type": "markdown",
   "id": "a11eb433",
   "metadata": {},
   "source": [
    "As the graph shows we see: both the interest rate and unemployment decline since 2020"
   ]
  },
  {
   "cell_type": "markdown",
   "id": "2e73ee2e",
   "metadata": {},
   "source": [
    "### Get index prices from yahoo:\n",
    "\n",
    "\n",
    "Dow Jones Industrial Average (^DJIA) is a stock market index based on the stock prices of the 30 largest US companies \n"
   ]
  },
  {
   "cell_type": "code",
   "execution_count": 10,
   "id": "145aa3f0",
   "metadata": {},
   "outputs": [
    {
     "name": "stdout",
     "output_type": "stream",
     "text": [
      "Date\n",
      "2022-01-03    36585.058594\n",
      "2022-01-04    36799.648438\n",
      "2022-01-05    36407.109375\n",
      "2022-01-06    36236.468750\n",
      "2022-01-07    36231.660156\n",
      "                  ...     \n",
      "2022-11-01    32653.199219\n",
      "2022-11-02    32147.759766\n",
      "2022-11-03    32001.250000\n",
      "2022-11-04    32403.220703\n",
      "2022-11-07    32827.000000\n",
      "Name: ^DJI, Length: 214, dtype: float64\n"
     ]
    }
   ],
   "source": [
    "import pandas_datareader as pdr\n",
    "import datetime as dt\n",
    "\n",
    "start = dt.datetime(2022, 1, 1)\n",
    "end = dt.datetime(2022, 11, 7)\n",
    "\n",
    "dow = pdr.get_data_yahoo('^DJI', start, end)['Adj Close']\n",
    "dow.name='^DJI'\n",
    "\n",
    "print(dow)"
   ]
  },
  {
   "cell_type": "markdown",
   "id": "cba535c9",
   "metadata": {},
   "source": [
    "### Plot index prices"
   ]
  },
  {
   "cell_type": "code",
   "execution_count": 11,
   "id": "2bb329cf",
   "metadata": {
    "scrolled": true
   },
   "outputs": [
    {
     "data": {
      "text/plain": [
       "[<matplotlib.lines.Line2D at 0x2531d5752b0>]"
      ]
     },
     "execution_count": 11,
     "metadata": {},
     "output_type": "execute_result"
    },
    {
     "data": {
      "image/png": "[encoded data removed]",
      "text/plain": [
       "<Figure size 432x288 with 1 Axes>"
      ]
     },
     "metadata": {
      "needs_background": "light"
     },
     "output_type": "display_data"
    }
   ],
   "source": [
    "plt.plot(dow)"
   ]
  },
  {
   "cell_type": "markdown",
   "id": "51d9dcc4",
   "metadata": {},
   "source": [
    "As graph shows, in 2022 the index prices are overall in decline"
   ]
  }
 ],
 "metadata": {
  "kernelspec": {
   "display_name": "Python 3 (ipykernel)",
   "language": "python",
   "name": "python3"
  },
  "language_info": {
   "codemirror_mode": {
    "name": "ipython",
    "version": 3
   },
   "file_extension": ".py",
   "mimetype": "text/x-python",
   "name": "python",
   "nbconvert_exporter": "python",
   "pygments_lexer": "ipython3",
   "version": "3.9.12"
  }
 },
 "nbformat": 4,
 "nbformat_minor": 5
}
