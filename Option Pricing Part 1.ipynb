{
 "cells": [
  {
   "cell_type": "markdown",
   "id": "567e5162",
   "metadata": {},
   "source": [
    "# Derivatives Pricing \n",
    "\n",
    "\n",
    "\n",
    "\n",
    "\n",
    "### Derivatives\n",
    "\n",
    "- Derivatives are financial instruments that \"derive\" their performance from the performance (the value and other characteristics) of the underlying asset. \n",
    "\n",
    "Example of underlying assets: stocks, bonds, commodities, currencies, interest rates, etc.\n",
    "\n",
    "- The value of the underlying is a source of risk. \n",
    "\n",
    "Derivatives are financial contracts that are similar to insurance in the sense that they provide protection against loss. The buyer of a derivative takes a long position, and the seller holds a short position.\n",
    "\n",
    "\n",
    "Derivative markets are generally more liquid than their underlyings, and they offer a simpler, more effective and low-cost way to manage risk. For example, investors holding bonds and concerned about interest rate risk can efficiently manage their risk exposures with derivatives (although they could trade stocks and bonds to adjust their level of risk, derivatives makes managing risk easier).\n",
    "\n",
    "As risk is constantly changes with market changes, effective risk hedging with derivatives require complex mathematical modeling.  \n",
    "\n",
    "In this notebook I examine the valuation of European options and the relationships between them and the price of the underlying using data science tools. \n",
    "\n",
    "\n",
    "\n",
    "### Options \n",
    "\n",
    "Options are financial contracts that give option holders the right to either buy (in the case of a call options)  or sell (put options) an (underlying) asset, by or at a later date T (called expiry or maturity) at a price agreed upon K (called exercise price). Option owners have the right to buy/sell, but not the obligation to exercise their right. \n",
    "\n",
    "Buying an option requires an up-front payment (called option premium) that represents a fair price of the option.\n",
    "\n",
    "The value of an option can roughly be calculated as the present value (PV) of the cash flows expected to be received by the holder of the option during the life of the option.  \n",
    "\n",
    "\n",
    "### European Options\n",
    "\n",
    "An European option can be exercised only on the expiration. If we denote $S_T$ the price of the underlying at expiration, then the option payoff at time T is calculated as $c_T = max(S_{T}-K, 0)$ (for call) and $p_T= max(K-S_{T},0)$\n",
    "\n",
    "If the price of the underlying at expiration $ST < K$, investors won't choose to exercise the call option (it makes no sense to pay more when the market value is less). In this circumstances, investors lose only the initial investment cost (option premium). If the price of the underlying $ST> K$ on the expiration date, the option will be exercised, and investors make a gain of $ST -K$.  In the case of a put European option, investors will exercise it only if the price of the underlying is below strike price on the expiration date $ST < K$. (it makes no sense to sell an asset a price for less than its market value)\n",
    "\n",
    "Remark: It's important to note that an investor sometimes choses to exercise an option and makeing a loss overall. Ex: when taking into account the initial cost of the option, and when not exercising would lead to an overall greater loss than when exercising. \n",
    "\n"
   ]
  },
  {
   "cell_type": "code",
   "execution_count": 1,
   "id": "e896bb90",
   "metadata": {},
   "outputs": [],
   "source": [
    "#imports\n",
    "import pandas as pd\n",
    "import numpy as np\n",
    "import math\n",
    "import matplotlib.pyplot as plt\n",
    "import warnings\n",
    "warnings.filterwarnings('ignore')"
   ]
  },
  {
   "cell_type": "code",
   "execution_count": 2,
   "id": "b3e9d859",
   "metadata": {},
   "outputs": [
    {
     "name": "stdout",
     "output_type": "stream",
     "text": [
      "The payoff of European call option at the expiration is: 8\n",
      "The payoff of European put option at the expiration is: 0\n"
     ]
    }
   ],
   "source": [
    "#Expected Payoff for European Options:\n",
    "\n",
    "S0 = 95 #current price of the underlying asset\n",
    "K = 100 #exercise price\n",
    "T = 1 #time to expiry\n",
    "ST = 108 # price of the underlying asset at expiry\n",
    "\n",
    "cT = np.maximum(ST - K,0)\n",
    "\n",
    "pT = np.maximum(K-ST,0)\n",
    "\n",
    "print (f\"The payoff of European call option at the expiration is: {cT}\")\n",
    "\n",
    "print (f\"The payoff of European put option at the expiration is: {pT}\")\n"
   ]
  },
  {
   "cell_type": "markdown",
   "id": "9eb38bc6",
   "metadata": {},
   "source": [
    "## Option Pricing and Valuation: \n",
    "\n",
    "### Lowest bound limit\n",
    "\n",
    "\n",
    "Central Question to valuation: Finding what an option is worth.\n",
    "\n",
    "When valuing an option, the only element of uncertainty is the price of the underlying -  more exactly,  whether the price of the underlying is above or below strike price at expiry.  \n",
    "\n",
    "The following strategy produces equivalent results to the outcome of the call option: If an investor borrows the amount K with an interest rate r that has to be returned at expiry. Then at t=0, (asset) owned S=S0 minus (loan) $K/(1+r)^T$. And at time t=T, upon paying the loan K, the payoff at expiry will be $ST-K$. \n",
    "\n",
    "From here we conclude: a call options worth is at least the value of the leveraged strategy i.e., $c0 >= S0 - K/(1+r)^2$. Since an option cannot be zero, the lower bound for a call option value is: $c0 >= max(S0 - K/(1+r)^T, 0)$.\n",
    "\n",
    "\n",
    "Using a similar argument for put options, we get: $p0 >= max (K/(1+r)^T-S0, 0)$.\n",
    "\n",
    "\n",
    "\n",
    "### Upper bound for call \n",
    "\n",
    "The value of an European call is directly related to the value of the underlying and inverly related to K. \n",
    "\n",
    "The value of the underlying forms an upper boundary on what a call is worth (value of call option cannot exceed the value of the underlying): $c0 < S0$\n",
    "\n",
    "\n",
    "\n",
    "### Upper bound for put \n",
    "\n",
    "The value of an European put is directly related K and inverly related to the value of the underlying. \n",
    "The exercise price forms an upper bound for the value of an European put i.e., $p0 <K$.\n",
    "\n"
   ]
  },
  {
   "cell_type": "markdown",
   "id": "2a7aa12c",
   "metadata": {},
   "source": [
    "### Option Pricing and Valuation: \n",
    "\n",
    "\n",
    "Below is a list of the key kactors affecting the price of an European option:\n",
    "\n",
    "- Current stock price, S0\n",
    "- Exercise price, K\n",
    "- Time to expiry, T\n",
    "- Volatility of the underlying, $\\sigma$\n",
    "- Risk-free interest rate, r\n",
    "- Dividends \n",
    "\n",
    "It is clear that the value of a call is directly related to the time to expiry i.e., more time for the price of the underlying to rise above K. For put calls, there are less benefits for longer periods than smaller. \n",
    "\n",
    "The value of both a call or put is directly related to the volatility of the underlying i.e., volatility increasing means the more option is worth. That is because the payoff of a call at expiry is higher the higher the value of the underlying vary from the mean. For a put option, the lower the price of the underlying at expiry the higher the payoff.\n",
    "\n",
    "\n",
    "Since an option derives its value from the value of the underlying asset, option valuation can be achieved by constructing a hedge portfolio that consists of a combination of the option and the underlying. For example, since call option and the underlying move together, buying a delta units of the underlying and selling a call can create a hedge investment that earns a risk-free rate. \n",
    "\n",
    "The ability to create a hedge portfolion and the principle of no-arbitrage, reduces the option valuation as if the investors are risk neural i.e., modeling the market uncertainty using risk-neutral probabilities abd discounting the expected pay off cash flow using a risk-free rate. \n",
    "\n"
   ]
  },
  {
   "cell_type": "code",
   "execution_count": 3,
   "id": "1e9a988e",
   "metadata": {},
   "outputs": [
    {
     "name": "stdout",
     "output_type": "stream",
     "text": [
      "Value of the European Call Option : 0.0009607894391523232\n"
     ]
    }
   ],
   "source": [
    "#Valuation of European options using Monte Carlo method\n",
    "\n",
    "\n",
    "S0 = 95 #current price of the underlying\n",
    "K = 100 #exercise price\n",
    "T = 1 #time to expiry\n",
    "ST = 108 # price of the underlying at expiry\n",
    "r = 0.04 # risk-tree interest rate\n",
    "sigma = 0.18 # volatility of the underlying\n",
    "\n",
    "n = 8000 # number of MC simulations\n",
    "\n",
    "#seed \n",
    "np.random.seed(123)\n",
    "\n",
    "# Returns are assumed normally distributed\n",
    "\n",
    "# Draw samples from a standard normal distribution\n",
    "z = np.random.standard_normal(n) \n",
    "\n",
    "#Black-Scholes-Merton price formula for the underlying at expiry\n",
    "ST = S0 * np.exp((r - 0.5 * sigma ** 2) * T + sigma * np.sqrt(T) * z)\n",
    "\n",
    "# Option payoff at expiry\n",
    "CT = np.maximum(ST - K, 0) \n",
    "\n",
    "#Option present value using\n",
    "\n",
    "C0 = np.exp(-r * T) * np.sum(cT) / n\n",
    "\n",
    "print (f\"Value of the European Call Option : {C0}\")\n"
   ]
  },
  {
   "cell_type": "markdown",
   "id": "09b20ab4",
   "metadata": {},
   "source": [
    "### Log-returns distribution"
   ]
  },
  {
   "cell_type": "code",
   "execution_count": 7,
   "id": "49d521af",
   "metadata": {},
   "outputs": [],
   "source": [
    "# Calculating and plotting the log-returns for apple stock\n",
    "\n",
    "apple['log_returns'] = np.log(apple['Close']/apple['Close'].shift(1))"
   ]
  },
  {
   "cell_type": "code",
   "execution_count": 8,
   "id": "1066db1e",
   "metadata": {},
   "outputs": [
    {
     "data": {
      "text/plain": [
       "Text(0, 0.5, 'frequency of log returns')"
      ]
     },
     "execution_count": 8,
     "metadata": {},
     "output_type": "execute_result"
    },
    {
     "data": {
      "image/png": "[encoded data removed]",
      "text/plain": [
       "<Figure size 432x288 with 1 Axes>"
      ]
     },
     "metadata": {
      "needs_background": "light"
     },
     "output_type": "display_data"
    }
   ],
   "source": [
    "apple['log_returns'].hist(bins=50, alpha=0.6)\n",
    "plt.xlabel('log returns')\n",
    "plt.ylabel('frequency of log returns')\n"
   ]
  },
  {
   "cell_type": "markdown",
   "id": "bb36e082",
   "metadata": {},
   "source": [
    "###  SUMMARY\n",
    "\n",
    "The Black-Scholes model makes certain assumptions. \n",
    "\n",
    "- Lognormal distribution is the one of the assumptions used in the Black Scholes model of option pricing. \n",
    "\n",
    "If prices are assumed to be lognormal distributed, then log of prices follow a normal distribution.(OK)\n",
    " \n",
    "- Stock prices are assumed to be continuously compounded since they respond almost instantly to changes in the demand & supply. \n",
    "\n",
    "Price of the stock being continuously compounded can be added across time. This approximation (and BS model assumption) is a desirable mathematical property and not necessarily the reality. (NOT OK)\n",
    "\n",
    "\n",
    "Volatility is a statistical measure of the dispersion of returns that represents how large stock prices vary around the mean price. Volatility measures the degree of variation of a stock price over time. It is used to characterize risk (uncertainty) of a stock price (risk refers to the probability distribution of returns)\n",
    "\n",
    "\n",
    "- BS models assumes volatility is constant and known in advance. \n",
    "\n",
    "That assumption is often violated; volatility is neither constant nor known in advance. (NOT OK)\n",
    "\n",
    "- The assumption that risk-free interest rate is constant for all maturities (NOT OK)\n",
    "\n",
    "Other assumptions are: no dividends, no transaction costs, no taxes \n",
    "\n",
    "\n",
    "\n",
    "\n"
   ]
  },
  {
   "cell_type": "code",
   "execution_count": null,
   "id": "43d15e0a",
   "metadata": {},
   "outputs": [],
   "source": []
  }
 ],
 "metadata": {
  "kernelspec": {
   "display_name": "Python 3",
   "language": "python",
   "name": "python3"
  },
  "language_info": {
   "codemirror_mode": {
    "name": "ipython",
    "version": 3
   },
   "file_extension": ".py",
   "mimetype": "text/x-python",
   "name": "python",
   "nbconvert_exporter": "python",
   "pygments_lexer": "ipython3",
   "version": "3.8.8"
  }
 },
 "nbformat": 4,
 "nbformat_minor": 5
}
