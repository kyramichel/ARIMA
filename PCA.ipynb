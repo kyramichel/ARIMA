{
 "cells": [
  {
   "cell_type": "markdown",
   "id": "bfe3aed4",
   "metadata": {},
   "source": [
    "\n",
    "# PCA to estimating DJI \n",
    "\n",
    "\n",
    "- Principal component analysis (PCA) is an unsupervised machine learning algorithm based on a well-established mathematical technique that data scientists use for visualization and complex data pre-processing in Exploratory Data Analysis  \n",
    "\n",
    "\n",
    "- Dow Jones Industrial Average (^DJI) is a stock market index that measures the stock performance of 30 large companies listed on US stock exchanges.\n",
    "\n"
   ]
  },
  {
   "cell_type": "code",
   "execution_count": 1,
   "id": "c69c06ad",
   "metadata": {},
   "outputs": [],
   "source": [
    "import math\n",
    "import pandas as pd\n",
    "import numpy as np\n",
    "import matplotlib.pyplot as plt\n",
    "\n",
    "from pandas_datareader import data as pdr\n",
    "import pandas_datareader.data as web\n",
    "from sklearn.decomposition import KernelPCA\n"
   ]
  },
  {
   "cell_type": "code",
   "execution_count": 2,
   "id": "fc6904b9",
   "metadata": {},
   "outputs": [],
   "source": [
    "# Tickers list for the Dow Jones index and its 30 stocks \n",
    "\n",
    "tickers=[\"MMM\",\"AXP\",\"AMGN\",\"AAPL\",\"BA\",\"CAT\",\"CVX\",\"CSCO\",\"KO\",\"DOW\",\"GS\",\"HD\",\"HON\",\"IBM\",\"INTC\",\"JNJ\",\"JPM\",\"MCD\",\"MRK\",\"MSFT\",\"NKE\",\"PG\",\"CRM\",\"TRV\",\"UNH\",\"VZ\",\"V\",\"WMT\",\"WBA\",\"DIS\", \"^DJI\"]\n"
   ]
  },
  {
   "cell_type": "code",
   "execution_count": 3,
   "id": "77864685",
   "metadata": {
    "scrolled": true
   },
   "outputs": [],
   "source": [
    "def get_price(stock, start, end):\n",
    "    return pdr.get_data_yahoo(stock, start, end)['Adj Close']\n",
    "\n",
    "prices = pd.DataFrame({n: get_price(n, \"2020-01-01\", \"2021-04-27\") for n in tickers})\n"
   ]
  },
  {
   "cell_type": "code",
   "execution_count": 4,
   "id": "cf3aae87",
   "metadata": {},
   "outputs": [
    {
     "data": {
      "text/html": [
       "<div>\n",
       "<style scoped>\n",
       "    .dataframe tbody tr th:only-of-type {\n",
       "        vertical-align: middle;\n",
       "    }\n",
       "\n",
       "    .dataframe tbody tr th {\n",
       "        vertical-align: top;\n",
       "    }\n",
       "\n",
       "    .dataframe thead th {\n",
       "        text-align: right;\n",
       "    }\n",
       "</style>\n",
       "<table border=\"1\" class=\"dataframe\">\n",
       "  <thead>\n",
       "    <tr style=\"text-align: right;\">\n",
       "      <th></th>\n",
       "      <th>MMM</th>\n",
       "      <th>AXP</th>\n",
       "      <th>AMGN</th>\n",
       "      <th>AAPL</th>\n",
       "      <th>BA</th>\n",
       "      <th>CAT</th>\n",
       "      <th>CVX</th>\n",
       "      <th>CSCO</th>\n",
       "      <th>KO</th>\n",
       "      <th>DOW</th>\n",
       "      <th>...</th>\n",
       "      <th>PG</th>\n",
       "      <th>CRM</th>\n",
       "      <th>TRV</th>\n",
       "      <th>UNH</th>\n",
       "      <th>VZ</th>\n",
       "      <th>V</th>\n",
       "      <th>WMT</th>\n",
       "      <th>WBA</th>\n",
       "      <th>DIS</th>\n",
       "      <th>^DJI</th>\n",
       "    </tr>\n",
       "    <tr>\n",
       "      <th>Date</th>\n",
       "      <th></th>\n",
       "      <th></th>\n",
       "      <th></th>\n",
       "      <th></th>\n",
       "      <th></th>\n",
       "      <th></th>\n",
       "      <th></th>\n",
       "      <th></th>\n",
       "      <th></th>\n",
       "      <th></th>\n",
       "      <th></th>\n",
       "      <th></th>\n",
       "      <th></th>\n",
       "      <th></th>\n",
       "      <th></th>\n",
       "      <th></th>\n",
       "      <th></th>\n",
       "      <th></th>\n",
       "      <th></th>\n",
       "      <th></th>\n",
       "      <th></th>\n",
       "    </tr>\n",
       "  </thead>\n",
       "  <tbody>\n",
       "    <tr>\n",
       "      <th>2021-04-21</th>\n",
       "      <td>200.880005</td>\n",
       "      <td>147.179993</td>\n",
       "      <td>258.779999</td>\n",
       "      <td>133.500000</td>\n",
       "      <td>235.919998</td>\n",
       "      <td>231.413940</td>\n",
       "      <td>102.730003</td>\n",
       "      <td>51.930000</td>\n",
       "      <td>54.610001</td>\n",
       "      <td>64.820000</td>\n",
       "      <td>...</td>\n",
       "      <td>135.980011</td>\n",
       "      <td>230.559998</td>\n",
       "      <td>157.380005</td>\n",
       "      <td>398.809998</td>\n",
       "      <td>58.139999</td>\n",
       "      <td>227.449997</td>\n",
       "      <td>141.199997</td>\n",
       "      <td>54.049999</td>\n",
       "      <td>183.110001</td>\n",
       "      <td>34137.308594</td>\n",
       "    </tr>\n",
       "    <tr>\n",
       "      <th>2021-04-22</th>\n",
       "      <td>200.899994</td>\n",
       "      <td>147.160004</td>\n",
       "      <td>255.050003</td>\n",
       "      <td>131.940002</td>\n",
       "      <td>234.330002</td>\n",
       "      <td>227.860001</td>\n",
       "      <td>100.949997</td>\n",
       "      <td>51.500000</td>\n",
       "      <td>54.439999</td>\n",
       "      <td>60.930000</td>\n",
       "      <td>...</td>\n",
       "      <td>134.630005</td>\n",
       "      <td>231.350006</td>\n",
       "      <td>155.869995</td>\n",
       "      <td>396.540009</td>\n",
       "      <td>57.279999</td>\n",
       "      <td>227.570007</td>\n",
       "      <td>139.669998</td>\n",
       "      <td>52.580002</td>\n",
       "      <td>182.759995</td>\n",
       "      <td>33815.898438</td>\n",
       "    </tr>\n",
       "    <tr>\n",
       "      <th>2021-04-23</th>\n",
       "      <td>202.199997</td>\n",
       "      <td>144.330002</td>\n",
       "      <td>257.029999</td>\n",
       "      <td>134.320007</td>\n",
       "      <td>238.380005</td>\n",
       "      <td>230.110001</td>\n",
       "      <td>101.550003</td>\n",
       "      <td>51.910000</td>\n",
       "      <td>54.470001</td>\n",
       "      <td>62.110001</td>\n",
       "      <td>...</td>\n",
       "      <td>133.940002</td>\n",
       "      <td>233.509995</td>\n",
       "      <td>157.839996</td>\n",
       "      <td>400.309998</td>\n",
       "      <td>57.299999</td>\n",
       "      <td>230.000000</td>\n",
       "      <td>139.899994</td>\n",
       "      <td>53.020000</td>\n",
       "      <td>183.020004</td>\n",
       "      <td>34043.488281</td>\n",
       "    </tr>\n",
       "    <tr>\n",
       "      <th>2021-04-26</th>\n",
       "      <td>199.630005</td>\n",
       "      <td>150.339996</td>\n",
       "      <td>255.520004</td>\n",
       "      <td>134.720001</td>\n",
       "      <td>241.440002</td>\n",
       "      <td>230.559998</td>\n",
       "      <td>101.519997</td>\n",
       "      <td>51.639999</td>\n",
       "      <td>53.660000</td>\n",
       "      <td>62.200001</td>\n",
       "      <td>...</td>\n",
       "      <td>131.259995</td>\n",
       "      <td>235.460007</td>\n",
       "      <td>155.729996</td>\n",
       "      <td>395.859985</td>\n",
       "      <td>56.939999</td>\n",
       "      <td>230.339996</td>\n",
       "      <td>137.910004</td>\n",
       "      <td>52.730000</td>\n",
       "      <td>184.270004</td>\n",
       "      <td>33981.570312</td>\n",
       "    </tr>\n",
       "    <tr>\n",
       "      <th>2021-04-27</th>\n",
       "      <td>194.449997</td>\n",
       "      <td>150.360001</td>\n",
       "      <td>255.130005</td>\n",
       "      <td>134.389999</td>\n",
       "      <td>242.470001</td>\n",
       "      <td>230.339996</td>\n",
       "      <td>102.699997</td>\n",
       "      <td>51.369999</td>\n",
       "      <td>53.580002</td>\n",
       "      <td>62.650002</td>\n",
       "      <td>...</td>\n",
       "      <td>131.179993</td>\n",
       "      <td>234.210007</td>\n",
       "      <td>155.199997</td>\n",
       "      <td>394.500000</td>\n",
       "      <td>56.320000</td>\n",
       "      <td>229.910004</td>\n",
       "      <td>138.380005</td>\n",
       "      <td>52.509998</td>\n",
       "      <td>184.639999</td>\n",
       "      <td>33984.929688</td>\n",
       "    </tr>\n",
       "  </tbody>\n",
       "</table>\n",
       "<p>5 rows × 31 columns</p>\n",
       "</div>"
      ],
      "text/plain": [
       "                   MMM         AXP        AMGN        AAPL          BA  \\\n",
       "Date                                                                     \n",
       "2021-04-21  200.880005  147.179993  258.779999  133.500000  235.919998   \n",
       "2021-04-22  200.899994  147.160004  255.050003  131.940002  234.330002   \n",
       "2021-04-23  202.199997  144.330002  257.029999  134.320007  238.380005   \n",
       "2021-04-26  199.630005  150.339996  255.520004  134.720001  241.440002   \n",
       "2021-04-27  194.449997  150.360001  255.130005  134.389999  242.470001   \n",
       "\n",
       "                   CAT         CVX       CSCO         KO        DOW  ...  \\\n",
       "Date                                                                 ...   \n",
       "2021-04-21  231.413940  102.730003  51.930000  54.610001  64.820000  ...   \n",
       "2021-04-22  227.860001  100.949997  51.500000  54.439999  60.930000  ...   \n",
       "2021-04-23  230.110001  101.550003  51.910000  54.470001  62.110001  ...   \n",
       "2021-04-26  230.559998  101.519997  51.639999  53.660000  62.200001  ...   \n",
       "2021-04-27  230.339996  102.699997  51.369999  53.580002  62.650002  ...   \n",
       "\n",
       "                    PG         CRM         TRV         UNH         VZ  \\\n",
       "Date                                                                    \n",
       "2021-04-21  135.980011  230.559998  157.380005  398.809998  58.139999   \n",
       "2021-04-22  134.630005  231.350006  155.869995  396.540009  57.279999   \n",
       "2021-04-23  133.940002  233.509995  157.839996  400.309998  57.299999   \n",
       "2021-04-26  131.259995  235.460007  155.729996  395.859985  56.939999   \n",
       "2021-04-27  131.179993  234.210007  155.199997  394.500000  56.320000   \n",
       "\n",
       "                     V         WMT        WBA         DIS          ^DJI  \n",
       "Date                                                                     \n",
       "2021-04-21  227.449997  141.199997  54.049999  183.110001  34137.308594  \n",
       "2021-04-22  227.570007  139.669998  52.580002  182.759995  33815.898438  \n",
       "2021-04-23  230.000000  139.899994  53.020000  183.020004  34043.488281  \n",
       "2021-04-26  230.339996  137.910004  52.730000  184.270004  33981.570312  \n",
       "2021-04-27  229.910004  138.380005  52.509998  184.639999  33984.929688  \n",
       "\n",
       "[5 rows x 31 columns]"
      ]
     },
     "execution_count": 4,
     "metadata": {},
     "output_type": "execute_result"
    }
   ],
   "source": [
    "prices.tail()"
   ]
  },
  {
   "cell_type": "markdown",
   "id": "66e47cc2",
   "metadata": {},
   "source": [
    "## PCA algorithm\n",
    "    \n",
    "\n",
    "Before using PCA: Standardize the dataset "
   ]
  },
  {
   "cell_type": "code",
   "execution_count": 5,
   "id": "d054c91e",
   "metadata": {},
   "outputs": [],
   "source": [
    "from sklearn.preprocessing import StandardScaler\n",
    "sc = StandardScaler()\n",
    "\n",
    "#i.e., all 30 dimensions are centered around 0 and have a std=1\n",
    "standardize= lambda x: (x-x.mean())/x.std()\n"
   ]
  },
  {
   "cell_type": "code",
   "execution_count": 6,
   "id": "368de786",
   "metadata": {},
   "outputs": [],
   "source": [
    "pca = KernelPCA().fit(prices.apply(standardize))"
   ]
  },
  {
   "cell_type": "markdown",
   "id": "c83e2721",
   "metadata": {},
   "source": [
    "Next calculate the covariance matrix for the resulting centered matrix and use eigenvalue decomposition to transform it "
   ]
  },
  {
   "cell_type": "markdown",
   "id": "825d410c",
   "metadata": {},
   "source": [
    "Eigenvalues"
   ]
  },
  {
   "cell_type": "code",
   "execution_count": 7,
   "id": "df7bf7b7",
   "metadata": {},
   "outputs": [
    {
     "data": {
      "text/plain": [
       "array([6.45241214e+03, 1.78303259e+03, 7.60834901e+02, 4.67868191e+02,\n",
       "       1.82225923e+02, 1.01304074e+02, 9.48954134e+01, 8.26835045e+01,\n",
       "       6.39166194e+01, 4.12198632e+01, 3.75575647e+01, 3.14577664e+01,\n",
       "       2.72704995e+01, 2.34435433e+01, 1.99130273e+01, 1.86015915e+01,\n",
       "       1.17290047e+01, 1.09354280e+01, 8.89714797e+00, 8.09696602e+00,\n",
       "       7.66718244e+00, 4.94968550e+00, 4.87014754e+00, 3.51987766e+00,\n",
       "       2.73746443e+00, 2.48802758e+00, 2.04337413e+00, 1.74101370e+00,\n",
       "       1.37460318e+00, 1.21233028e+00, 1.00541166e-01])"
      ]
     },
     "execution_count": 7,
     "metadata": {},
     "output_type": "execute_result"
    }
   ],
   "source": [
    "#Eigenvalues in decreasing order\n",
    "\n",
    "pca.lambdas_"
   ]
  },
  {
   "cell_type": "markdown",
   "id": "621f2ea3",
   "metadata": {},
   "source": [
    "## Explained Variance\n",
    "\n",
    "The first principal component alone accounts for about 63% percent of the variance in the 30 time series:"
   ]
  },
  {
   "cell_type": "code",
   "execution_count": 8,
   "id": "cd88ef41",
   "metadata": {},
   "outputs": [
    {
     "data": {
      "text/plain": [
       "array([0.62882878, 0.17376792, 0.07414822, 0.04559674, 0.01775908,\n",
       "       0.00987273, 0.00924816, 0.00805804, 0.00622908, 0.00401714])"
      ]
     },
     "execution_count": 8,
     "metadata": {},
     "output_type": "execute_result"
    }
   ],
   "source": [
    "normalize= lambda x:x/x.sum()\n",
    "normalize(pca.lambdas_)[:10]"
   ]
  },
  {
   "cell_type": "code",
   "execution_count": 9,
   "id": "3f4e48c5",
   "metadata": {},
   "outputs": [
    {
     "name": "stdout",
     "output_type": "stream",
     "text": [
      "0.6288287824851365\n",
      "0.1737679159339693\n",
      "0.07414822154609832\n",
      "0.0455967440990974\n",
      "0.017759080343649793\n",
      "0.009872729184840206\n",
      "0.009248164255995131\n",
      "0.008058035720136724\n",
      "0.006229082876055716\n",
      "0.004017138996892413\n"
     ]
    }
   ],
   "source": [
    "eig_vals = normalize(pca.lambdas_)[:10]\n",
    "for i in eig_vals:\n",
    "    print(i)"
   ]
  },
  {
   "cell_type": "markdown",
   "id": "f3920948",
   "metadata": {},
   "source": [
    "The first 10 principal components combined explain almost 97% of the variability:"
   ]
  },
  {
   "cell_type": "code",
   "execution_count": 10,
   "id": "adbafe72",
   "metadata": {},
   "outputs": [
    {
     "data": {
      "text/plain": [
       "0.9775258954418716"
      ]
     },
     "execution_count": 10,
     "metadata": {},
     "output_type": "execute_result"
    }
   ],
   "source": [
    "tot = sum(eig_vals)\n",
    "tot"
   ]
  },
  {
   "cell_type": "markdown",
   "id": "fc307e74",
   "metadata": {},
   "source": [
    "On the graph bellow (adopted from S.R.) it's easy to see that the first principal component alone accounts for more than 60% of the variance the 30 time series, and that the first 5 components explain most of the variability:"
   ]
  },
  {
   "cell_type": "code",
   "execution_count": 11,
   "id": "9173358f",
   "metadata": {},
   "outputs": [
    {
     "data": {
      "image/png": "[encoded data removed]",
      "text/plain": [
       "<Figure size 432x288 with 1 Axes>"
      ]
     },
     "metadata": {
      "needs_background": "light"
     },
     "output_type": "display_data"
    }
   ],
   "source": [
    "var = [(i/tot) for i in eig_vals]\n",
    "cum = np.cumsum(var)\n",
    "\n",
    "plt.bar(range(10), var, alpha=0.5, align='center', color = 'purple', label='individual stocks explained variance')\n",
    "plt.step(range(10), cum, where='mid', color = 'purple', label='cumulative explained variance')\n",
    "plt.ylabel('Explained variability')\n",
    "plt.xlabel('Principal Components')\n",
    "plt.legend(loc='best')\n",
    "plt.tight_layout()\n"
   ]
  },
  {
   "cell_type": "code",
   "execution_count": 12,
   "id": "32b15865",
   "metadata": {},
   "outputs": [],
   "source": [
    "pca = KernelPCA(n_components=5).fit(prices.apply(standardize))\n",
    "PC5 = pca.transform(-prices)\n",
    "weights =normalize(pca.lambdas_)\n",
    "prices['PCA_5'] = np.dot(PC5, weights)"
   ]
  },
  {
   "cell_type": "code",
   "execution_count": 13,
   "id": "ea29b5bf",
   "metadata": {},
   "outputs": [
    {
     "data": {
      "text/plain": [
       "[<matplotlib.lines.Line2D at 0x23106139520>]"
      ]
     },
     "execution_count": 13,
     "metadata": {},
     "output_type": "execute_result"
    },
    {
     "data": {
      "image/png": "[encoded data removed]",
      "text/plain": [
       "<Figure size 432x288 with 1 Axes>"
      ]
     },
     "metadata": {
      "needs_background": "light"
     },
     "output_type": "display_data"
    }
   ],
   "source": [
    "plt.plot(prices['PCA_5'], color='orange')"
   ]
  },
  {
   "cell_type": "code",
   "execution_count": 14,
   "id": "f440c2c0",
   "metadata": {},
   "outputs": [
    {
     "data": {
      "text/plain": [
       "Date\n",
       "2020-01-02    28868.800781\n",
       "2020-01-03    28634.880859\n",
       "2020-01-06    28703.380859\n",
       "2020-01-07    28583.679688\n",
       "2020-01-08    28745.089844\n",
       "                  ...     \n",
       "2021-04-21    34137.308594\n",
       "2021-04-22    33815.898438\n",
       "2021-04-23    34043.488281\n",
       "2021-04-26    33981.570312\n",
       "2021-04-27    33984.929688\n",
       "Name: ^DJI, Length: 332, dtype: float64"
      ]
     },
     "execution_count": 14,
     "metadata": {},
     "output_type": "execute_result"
    }
   ],
   "source": [
    "#The Dow \n",
    "prices['^DJI']"
   ]
  },
  {
   "cell_type": "code",
   "execution_count": 15,
   "id": "8815d196",
   "metadata": {},
   "outputs": [
    {
     "data": {
      "text/plain": [
       "[<matplotlib.lines.Line2D at 0x2310a276be0>]"
      ]
     },
     "execution_count": 15,
     "metadata": {},
     "output_type": "execute_result"
    },
    {
     "data": {
      "image/png": "[encoded data removed]",
      "text/plain": [
       "<Figure size 432x288 with 1 Axes>"
      ]
     },
     "metadata": {
      "needs_background": "light"
     },
     "output_type": "display_data"
    }
   ],
   "source": [
    "plt.plot(prices['^DJI'])"
   ]
  },
  {
   "cell_type": "code",
   "execution_count": 16,
   "id": "0c58fe07",
   "metadata": {},
   "outputs": [
    {
     "data": {
      "text/plain": [
       "<matplotlib.collections.PathCollection at 0x2310a3414c0>"
      ]
     },
     "execution_count": 16,
     "metadata": {},
     "output_type": "execute_result"
    },
    {
     "data": {
      "image/png": "[encoded data removed]",
      "text/plain": [
       "<Figure size 432x288 with 1 Axes>"
      ]
     },
     "metadata": {
      "needs_background": "light"
     },
     "output_type": "display_data"
    }
   ],
   "source": [
    "#Relationship btw Dow Jones & PCA index\n",
    "plt.scatter(prices['PCA_5'],prices['^DJI'], color ='g')"
   ]
  }
 ],
 "metadata": {
  "kernelspec": {
   "display_name": "Python 3",
   "language": "python",
   "name": "python3"
  },
  "language_info": {
   "codemirror_mode": {
    "name": "ipython",
    "version": 3
   },
   "file_extension": ".py",
   "mimetype": "text/x-python",
   "name": "python",
   "nbconvert_exporter": "python",
   "pygments_lexer": "ipython3",
   "version": "3.9.1"
  }
 },
 "nbformat": 4,
 "nbformat_minor": 5
}
