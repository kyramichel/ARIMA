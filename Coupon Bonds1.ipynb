{
 "cells": [
  {
   "cell_type": "markdown",
   "metadata": {},
   "source": [
    "\n",
    "# Plain Vanila Bonds\n",
    "\n",
    "\n",
    "\n",
    "\n",
    "- Plain vanilla bonds are conventional bonds that pay a fixed rate of interest.\n",
    "\n",
    "Cash Flows for a Plain Vanilla Bond:\n",
    "\n",
    "In a traditional (option-free) fixed-rate bond, the fixed payments are the promised future cash flows are a series of coupon interest payments and repayment of the full principal at maturity. Coupon payments are scheduled for example annually - annual payments for a fixed number of years with the final coupon to be paid together with the full principal on the maturity date. \n",
    "\n",
    "For a plain vanilla bond, periodic coupon payments do not change during the bond’s life and the entire payment of principal occurs at maturity. This payment structure has been adopted for majority of government and corporate bonds, and it is known as bullet bonds.\n",
    "\n"
   ]
  },
  {
   "cell_type": "markdown",
   "metadata": {},
   "source": [
    "### Price Valuation:\n",
    "\n",
    "Bond's price at issuance is the present value (PV) of the future cash flows discounted at the market discount rate - the rate of return required by investors given the risk of the investment in the bond aka required yield or required rate of return). \n",
    "\n",
    "Below is the formula for calculating bond's price using the time-value-of-money calculation to obtain the present value (PV) for a market discount rate:\n"
   ]
  },
  {
   "cell_type": "markdown",
   "metadata": {},
   "source": [
    "\n",
    "\\begin{aligned}Price &={\\begin{matrix}\\left({\\frac {C}{1+r}}+{\\frac {C}{(1+r)^{2}}}+...+{\\frac {C}{(1+r)^{n}}}\\right)+{\\frac {M}{(1+r)^{n}}}\\end{matrix}}\\\\&={\\begin{matrix}\\left(\\sum _{i=1}^{n}{\\frac {C}{(1+r)^{i}}}\\right)+{\\frac {M}{(1+r)^{n}}}\\end{matrix}}\\\\&={\\begin{matrix}C\\left({\\frac {1-(1+r)^{- n}}{r}}\\right)+M(1+r)^{-n}\\end{matrix}}\\end{aligned}\n",
    "\n",
    "\n",
    "where:\n",
    "\n",
    "Price = market price of bond\n",
    "\n",
    "M = par or face value or the principal amount of the bond (the amount the issuer agrees to repay the bondholders at maturity)\n",
    "\n",
    "n= number of periodic payments\n",
    "\n",
    "c = coupon rate or the nominal rate of a bond\n",
    "\n",
    "C = c * M = bond’s coupon or the fixed amount of periodic coupon payments\n",
    "\n",
    "r = market discount rate or the required rate return (i.e.,  required yield or observed/appropriate yield to maturity)\n",
    "\n",
    "\n",
    "$ = currency denomination (however, bonds can be issued in any currency, and there are dual-currency bonds and currency option bonds that give issuers/bondholders the right to choose the currency in which they want to pay/receive interest payments and the principal) \n"
   ]
  },
  {
   "cell_type": "markdown",
   "metadata": {},
   "source": [
    "## Time Money Valuation\n",
    "\n",
    "\n",
    "\n",
    "The concept of Time Value of Money is based on the idea that:\n",
    "\n",
    "*A dollar in hand today is worth more than a dollar to be received tomorrow.*\n",
    "\n",
    "\n",
    "Time value of money is of important consideration in making investment decisions.  In the bond's price formula above, the first term - the discount interest calculations is used to compute the present value (PV) of the timing of the promised future cash flows of the coupon payments. Explanation:\n",
    "\n",
    "$C$ = fixed-coupon payment. However, interest received means that interest earns interest, so:\n",
    "\n",
    "$C_1$ = the amount of money at the end of year 1: \n",
    "\n",
    "= fixed-coupon payment plus interest: $ = C + rC = C(1 + r)$\n",
    "\n",
    "\n",
    "$C_2$ = the amount of money at the end of year 2: \n",
    "\n",
    "$= C_{1}(1 + r) = C(1+ r)(1 + r) = C(1+ r)^2$\n",
    "\n",
    "...\n",
    "\n",
    "$C_n$ = the amount of money at the end of year n: \n",
    "\n",
    "$= C_{n-1}(1 + r) = C(1+ r)^n$\n"
   ]
  },
  {
   "cell_type": "markdown",
   "metadata": {},
   "source": [
    "### Defining  Bullet Bond Class:"
   ]
  },
  {
   "cell_type": "code",
   "execution_count": 1,
   "metadata": {},
   "outputs": [
    {
     "name": "stdout",
     "output_type": "stream",
     "text": [
      "Overwriting b1.py\n"
     ]
    }
   ],
   "source": [
    "%%writefile b1.py\n",
    "\n",
    "import math \n",
    "\n",
    "class BulletBond:\n",
    "    def __init__(self, n, M, c):\n",
    "        self.n = n\n",
    "        self.M = M\n",
    "        self.c = c\n",
    "\n",
    "    def Price(self, r): \n",
    "        return self.c * self.M *(1 - math.pow(1+r,-self.n))/r + self.M * math.pow(1+r,-self.n)\n",
    "    \n",
    "    "
   ]
  },
  {
   "cell_type": "code",
   "execution_count": 2,
   "metadata": {},
   "outputs": [],
   "source": [
    "import b1"
   ]
  },
  {
   "cell_type": "markdown",
   "metadata": {},
   "source": [
    "### Example :\n",
    "\n",
    "Suppose the coupon rate on a bond is 5% and the payment is made once a year. If the time-to-maturity is 5 years and the market discount rate is 6%. Then, the price of the bond is $95.787 per 100 of par value as shown below:"
   ]
  },
  {
   "cell_type": "code",
   "execution_count": 3,
   "metadata": {},
   "outputs": [
    {
     "data": {
      "text/plain": [
       "91.57527242886857"
      ]
     },
     "execution_count": 3,
     "metadata": {},
     "output_type": "execute_result"
    }
   ],
   "source": [
    "price = b1.BulletBond(5,100,0.04).Price(0.06)\n",
    "price"
   ]
  },
  {
   "cell_type": "markdown",
   "metadata": {},
   "source": [
    "In practice, bond prices are quoted as a percentage of their par value. In this example, the quote price is the same 91.575.\n",
    "\n",
    "Because the bond's price is below par value, this bond is said to be **trading at a discount**"
   ]
  },
  {
   "cell_type": "markdown",
   "metadata": {},
   "source": [
    "Upon maturity, the investor gains:"
   ]
  },
  {
   "cell_type": "code",
   "execution_count": 4,
   "metadata": {},
   "outputs": [
    {
     "data": {
      "text/plain": [
       "28.424727571131427"
      ]
     },
     "execution_count": 4,
     "metadata": {},
     "output_type": "execute_result"
    }
   ],
   "source": [
    "(4*5 + 100)- price "
   ]
  },
  {
   "cell_type": "markdown",
   "metadata": {},
   "source": [
    "Rounded the gain on investment is: $28.42"
   ]
  },
  {
   "cell_type": "markdown",
   "metadata": {},
   "source": [
    "### Example 2:  \n",
    "\n",
    "Suppose that another five-year bond has a coupon rate of 6% paid annually. If the market discount rate is 4%, the price of the bond is $108.903 as shown:"
   ]
  },
  {
   "cell_type": "code",
   "execution_count": 5,
   "metadata": {},
   "outputs": [
    {
     "data": {
      "text/plain": [
       "108.9036446620324"
      ]
     },
     "execution_count": 5,
     "metadata": {},
     "output_type": "execute_result"
    }
   ],
   "source": [
    "price = b1.BulletBond(5,100,0.06).Price(0.04)\n",
    "price"
   ]
  },
  {
   "cell_type": "markdown",
   "metadata": {},
   "source": [
    "This bond is **trading at a premium** because its price is above par value!"
   ]
  },
  {
   "cell_type": "markdown",
   "metadata": {},
   "source": [
    "Example 3:\n",
    "Suppose that another five-year bond has a coupon rate of 4% paid annually and the market discount rate equal to the coupon rate. The price of the bond is $100 as shown:"
   ]
  },
  {
   "cell_type": "code",
   "execution_count": 6,
   "metadata": {},
   "outputs": [
    {
     "data": {
      "text/plain": [
       "100.0"
      ]
     },
     "execution_count": 6,
     "metadata": {},
     "output_type": "execute_result"
    }
   ],
   "source": [
    "price = b1.BulletBond(5,100,0.04).Price(0.04)\n",
    "price"
   ]
  },
  {
   "cell_type": "markdown",
   "metadata": {},
   "source": [
    "This bond is **trading at par** because the bond is priced at par value."
   ]
  },
  {
   "cell_type": "markdown",
   "metadata": {},
   "source": [
    "### Summary:  \n",
    "\n",
    "\n",
    "#### Coupon rate  vs Market discount rate\n",
    "\n",
    "c -  the coupon rate indicates the amount the issuer promises to pay the bondholders each year in interest\n",
    "\n",
    "r -  the market discount rate reflects the amount investors need to receive in interest each year in order to pay full par value for the bond\n",
    "\n",
    "The two examples demonstrate that the price of a fixed-rate bond relative to par value, depends on the relationship of the coupon rate to the market discount rate. That is:\n",
    "\n",
    "\n",
    "- When c < r : the bond is priced at a *discount* below par value\n",
    "\n",
    "- When c > r : the bond is priced at a *premium* above par value.\n",
    "\n",
    "- When c = r , the bond is priced *at par* value."
   ]
  }
 ],
 "metadata": {
  "kernelspec": {
   "display_name": "Python 3",
   "language": "python",
   "name": "python3"
  },
  "language_info": {
   "codemirror_mode": {
    "name": "ipython",
    "version": 3
   },
   "file_extension": ".py",
   "mimetype": "text/x-python",
   "name": "python",
   "nbconvert_exporter": "python",
   "pygments_lexer": "ipython3",
   "version": "3.8.3"
  }
 },
 "nbformat": 4,
 "nbformat_minor": 4
}
