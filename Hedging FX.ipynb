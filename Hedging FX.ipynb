{
 "cells": [
  {
   "cell_type": "markdown",
   "metadata": {},
   "source": [
    "\n",
    "# Forward contracts, FX rates, Notional, Python code Hedging FX rates using Forward contracts\n",
    "\n",
    "## Forward contract\n",
    "\n",
    " is a simple financial agreement between two parties to buy or sell an asset at a future date for a price that is agreed upon today. Here are the **key elements** of a forward contract:\n",
    "\n",
    "### 1. **Underlying Asset**\n",
    "   - This is the item being bought or sold in the contract. It could be a commodity, currency, financial instrument, or any other asset.\n",
    "\n",
    "### 2. **Forward Price**\n",
    "   - The price at which the asset will be bought or sold in the future. This price is agreed upon at the time the contract is made and is locked in for the future exchange.\n",
    "\n",
    "### 3. **Contract Size / Notional Amount**\n",
    "   - The amount of the underlying asset involved in the contract. For example, it could be a certain amount of currency, stocks, or commodities.\n",
    "\n",
    "### 4. **Settlement Date**\n",
    "   - The date in the future when the transaction will take place (i.e., the date when the asset will be delivered and payment will be made).\n",
    "\n",
    "### 5. **Counterparties**\n",
    "   - The two parties involved in the contract: one agrees to buy, and the other agrees to sell the asset at the agreed-upon forward price on the settlement date.\n",
    "\n",
    "---\n",
    "\n",
    "### Example:\n",
    "\n",
    "Let's say you want to buy 100,000 euros in 6 months at a fixed rate of 1 USD = 0.85 EUR. \n",
    "\n",
    "- **Underlying Asset**: Euros (EUR)\n",
    "- **Forward Price**: 1 USD = 0.85 EUR\n",
    "- **Contract Size**: 100,000 euros\n",
    "- **Settlement Date**: 6 months from now\n",
    "- **Counterparties**: You (the buyer) and the counterparty (the seller)\n",
    "\n",
    "In 6 months, you will exchange USD for euros at the agreed price, regardless of what the spot market rate is at that time.\n",
    "\n",
    "### Simple Summary:\n",
    "A **forward contract** lets you lock in a price today for a transaction to take place in the future. The **key elements** are:\n",
    "- The **asset** you're dealing with,\n",
    "- The **agreed price** for that asset,\n",
    "- The **amount** of the asset,\n",
    "- The **future date** when the transaction happens, and\n",
    "- The **two parties** involved in the agreement."
   ]
  },
  {
   "cell_type": "markdown",
   "metadata": {},
   "source": [
    "# FX Forward contract\n",
    "\n",
    " is a specific type of forward contract where two parties agree to exchange one currency for another at a future date, at a pre-agreed exchange rate. It's used to hedge or speculate on currency price fluctuations.\n",
    "\n",
    "Here are the **key elements** of an **FX forward contract**:\n",
    "\n",
    "### 1. **Underlying Currencies**\n",
    "   - The two currencies being exchanged in the contract. For example, U.S. dollars (USD) and euros (EUR).\n",
    "\n",
    "### 2. **Forward Exchange Rate**\n",
    "   - The exchange rate at which the two currencies will be exchanged in the future. This rate is agreed upon when the contract is made. It may differ from the spot exchange rate (the rate for immediate transactions) due to factors like interest rate differentials between the two currencies.\n",
    "\n",
    "### 3. **Contract Size / Notional Amount**\n",
    "   - The amount of each currency involved in the contract. For example, the amount of USD you want to buy or sell in exchange for euros (or vice versa).\n",
    "\n",
    "### 4. **Settlement Date**\n",
    "   - The date in the future when the exchange of currencies will occur. This could be days, months, or even years from the date of the contract.\n",
    "\n",
    "### 5. **Counterparties**\n",
    "   - The two parties involved in the contract: one agrees to buy the foreign currency, and the other agrees to sell it, based on the agreed forward exchange rate.\n",
    "\n",
    "---\n",
    "\n",
    "### Example:\n",
    "\n",
    "Suppose you are a U.S.-based company that needs to pay a European supplier 1 million euros in 3 months, and you want to lock in the exchange rate to avoid currency fluctuations. You enter into an FX forward contract.\n",
    "\n",
    "- **Underlying Currencies**: USD and EUR.\n",
    "- **Forward Exchange Rate**: 1 USD = 0.85 EUR.\n",
    "- **Contract Size / Notional Amount**: 1 million euros.\n",
    "- **Settlement Date**: 3 months from today.\n",
    "- **Counterparties**: You (the buyer of euros) and the counterparty (the seller of euros).\n",
    "\n",
    "In 3 months, regardless of the current spot rate, you will exchange USD for 1 million euros at the agreed rate of 1 USD = 0.85 EUR.\n",
    "\n",
    "### Simple Summary:\n",
    "\n",
    "An **FX forward contract** allows you to lock in a specific exchange rate for a currency transaction that will occur in the future. The **key elements** are:\n",
    "- The **currencies** being exchanged,\n",
    "- The **agreed exchange rate** (forward rate),\n",
    "- The **amount** of each currency,\n",
    "- The **future settlement date**, and\n",
    "- The **two parties** involved in the agreement. \n",
    "\n",
    "This helps businesses and investors manage currency risk."
   ]
  },
  {
   "cell_type": "markdown",
   "metadata": {},
   "source": [
    "\n",
    "\n",
    "# Forward Notional Amount (FCY) - Assets & Liabilities:\n",
    "\n",
    "In the context of a **forward contract**, especially an **FX forward contract**, the **notional amount** refers to the **amount of the underlying asset** (in this case, foreign currency) that will be exchanged under the terms of the contract. \n",
    "\n",
    " **Forward Notional Amount (FCY)** is the amount of foreign currency involved in the transaction. It could be the amount that you will **buy** or **sell** at the agreed forward FX rate.\n",
    "\n",
    "note: This amount is agreed upon at the outset of the contract, but it is not the actual cash flow — it's simply the reference value for the contract. The **notional amount** is used to calculate the final settlement and the potential value of the contract.\n",
    "\n",
    "### 1. **Notional Amount (FCY) – Asset Side**\n",
    "- When you **buy** foreign currency through an FX forward, the notional amount represents the **amount of foreign currency (FCY)** you will receive in the future.\n",
    "- This is an **asset** for the party purchasing the foreign currency, as it gives them the right to receive that foreign currency in the future.\n",
    "\n",
    "### Example (Asset Side):\n",
    "- If you're a U.S. company expecting to receive **1 million euros** from a European customer in 6 months, you could enter into an FX forward contract to **buy euros** at a specific exchange rate.\n",
    "- **Notional Amount (FCY)**: 1 million euros.\n",
    "- This represents an **asset** for you (since you'll be receiving the 1 million euros at the forward rate), and the value of that asset will be determined by the agreed-upon **forward exchange rate**.\n",
    "\n",
    "---\n",
    "\n",
    "### 2. **Notional Amount (FCY) – Liability Side**\n",
    "- When you **sell** foreign currency (through an FX forward), the notional amount represents the **amount of foreign currency (FCY)** you will have to deliver or pay in the future.\n",
    "- This is a **liability** for the party selling the foreign currency, as they will be required to deliver that foreign currency on the settlement date.\n",
    "\n",
    "### Example (Liability Side):\n",
    "- Suppose you're a U.S. company that needs to **pay** a European supplier 1 million euros in 6 months. You could enter into an FX forward contract to **sell euros** and **buy USD** at a specified exchange rate.\n",
    "- **Notional Amount (FCY)**: 1 million euros.\n",
    "- This represents a **liability** for you (since you will need to pay the 1 million euros at the agreed rate), and your liability will be determined by the agreed-upon **forward exchange rate**.\n",
    "\n",
    "---\n",
    "\n",
    "### Summary:\n",
    "\n",
    "- The **Forward Notional Amount (FCY)** refers to the amount of the **foreign currency** involved in the forward contract.\n",
    "- It represents the **asset** for the party **buying** the foreign currency and the **liability** for the party **selling** the foreign currency.\n",
    "- In **FX forwards**, the notional amount is the **amount of foreign currency** that will be exchanged at the agreed-upon forward exchange rate on the settlement date.\n",
    "\n",
    "### In Simple Terms:\n",
    "\n",
    "- **Asset** (for the buyer of FCY): You will receive the foreign currency (FCY) in the future.\n",
    "- **Liability** (for the seller of FCY): You will need to deliver the foreign currency (FCY) in the future.\n",
    "\n",
    "This is crucial for determining the **future cash flow** and **currency exposure** of the parties involved in the FX forward contract."
   ]
  },
  {
   "cell_type": "markdown",
   "metadata": {},
   "source": [
    "# Forecast Notional Amounts (Assets & Liabilities) using actuals of the notional amounts( FCY) from previous contracts. \n",
    "\n",
    "This method is useful when you're forecasting future exposure or trying to establish a pattern of how much foreign currency (FCY) you expect to exchange, based on historical data.\n",
    "\n",
    "**Scenario:**\n",
    "You are a business with FX exposure, and over the years, you've entered into FX forward contracts to hedge your currency positions. You want to **predict the notional amount (FCY)** for the next contract based on the historical actual amounts (in foreign currency) you have hedged in the past.\n",
    "\n",
    "## Example using 2mo MA\n",
    "\n",
    "\n",
    "A **2-month moving average** is a way to smooth out fluctuations in historical data (in this case, notional amounts of foreign currency) by averaging the values from the last two months. It helps predict the notional amount for future contracts by using the most recent data.\n",
    "\n",
    "\n",
    "\n",
    "### **Step 1: Assume the business entered into the following FX forward contracts for the past 2 months:\n",
    "\n",
    "| Month | Notional Amount (EUR) |\n",
    "|-------|-----------------------|\n",
    "| 1     | 1,000,000 EUR          |\n",
    "| 2     | 1,200,000 EUR          |\n",
    "\n",
    "### **Step 2: Calculate the **2-month moving average** of the notional amount:\n",
    "\n",
    "\n",
    "$\n",
    "\\text{2-Month MA} = \\frac{1,000,000 + 1,200,000}{2} = \\frac{2,200,000}{2} = 1,100,000 \\, \\text{EUR}$\n",
    "\n",
    "\n",
    "\n",
    "### **Step 3: Predict the Notional Amount for the Next Contract**\n",
    "\n",
    "Based on the **2-month moving average**, you would predict that the business will need to hedge **€1,100,000** in the next FX forward contract.\n",
    "\n",
    "\n",
    "- **If the company is receiving foreign currency** (i.e., the company is **buying euros** in the future), this amount of **€1,100,000** will be the **asset**.\n",
    "  \n",
    "- **If the company is paying foreign currency** (i.e., the company is **selling euros** in the future), this amount of **€1,100,000** will be the **liability**.\n",
    "\n",
    "---\n",
    "\n",
    "### Next, assume FX rate is 1.20 USD/EUR (based on market conditions or another calculation method).\n",
    "\n",
    "- If the business is **receiving euros (asset)**:\n",
    "  \n",
    "  $\n",
    "  \\text{USD Equivalent} = 1,100,000 \\, \\text{EUR} \\times 1.20 \\, \\text{USD/EUR} = 1,320,000 \\, \\text{USD}\n",
    "  $\n",
    "\n",
    "- If it is **paying euros (liability)**:\n",
    "\n",
    "  $\n",
    "  \\text{USD Equivalent} = 1,100,000 \\, \\text{EUR} \\times 1.20 \\, \\text{USD/EUR} = 1,320,000 \\, \\text{USD}\n",
    "  $\n",
    "\n",
    "---\n",
    "\n",
    "### Summary:\n",
    "- Using MA of actual notional amounts (FCY) helps to estimate the likely future exposure. This prediction can be used to hedge future transactions and better manage FX risks. In this case. 2-month MA helps predict the notional amount of foreign currency for the next contract, whether it's an asset or liability.\n",
    "\n",
    "- The predicted notional amount can be used to calculate the **USD equivalent** or any other currency equivalent.\n",
    "\n"
   ]
  },
  {
   "cell_type": "markdown",
   "metadata": {},
   "source": [
    "\n",
    "# Python code: Hedging FX rates using a Forward contract \n",
    "\n",
    "This simple code illustrates how a **Forward contract** can be used to hedge **FX risk** \n",
    "\n",
    "Scenario: \n",
    "- A U.S. company needs to receive €1,000,000 in 3 months.\n",
    "- The company is worried that the EUR/USD exchange rate may change unfavorably.\n",
    "- The company locks in the current forward exchange rate using a forward contract.\n",
    "\n",
    "Hedging against exchange rate fluctuations by entering into a forward contract:\n",
    "\n",
    "1. Use a 2mo MA to predict future forward exchange rate.\n",
    "2. Simulate the exchange rate in 3 months (to compare with the forward rate).\n",
    "3. Calculate how much USD the company will receive (or pay) based on the actual exchange rate vs. the forward rate.\n",
    "\n"
   ]
  },
  {
   "cell_type": "code",
   "execution_count": 2,
   "metadata": {},
   "outputs": [],
   "source": [
    "import numpy as np"
   ]
  },
  {
   "cell_type": "code",
   "execution_count": 3,
   "metadata": {},
   "outputs": [
    {
     "name": "stdout",
     "output_type": "stream",
     "text": [
      "2-Month Moving Average (EUR/USD): 1.1900\n",
      "Predicted USD Received (using Forward Rate): $1,190,000.00\n"
     ]
    }
   ],
   "source": [
    "#1. Actual spot exchange rates for the past 2 months\n",
    "past_exchange_rates = [1.18, 1.20]  # EUR/USD spot exchange rates for month 1 and month 2\n",
    "\n",
    "#2: Calc 2mo MA \n",
    "moving_average_rate = np.mean(past_exchange_rates)\n",
    "print(f\"2-Month Moving Average (EUR/USD): {moving_average_rate:.4f}\")\n",
    "\n",
    "#3: Assume the company is hedging for €1,000,000 to be received in 3 months\n",
    "notional_amount_eur = 1_000_000  # EUR\n",
    "\n",
    "#4: Calc predicted USD amount using forward rate (calc using MA of past exchnage rates)\n",
    "predicted_usd_received = notional_amount_eur * moving_average_rate\n",
    "print(f\"Predicted USD Received (using Forward Rate): ${predicted_usd_received:,.2f}\")"
   ]
  },
  {
   "cell_type": "markdown",
   "metadata": {},
   "source": [
    "**5: Simulate the actual exchange rate (future spot rate)**:"
   ]
  },
  {
   "cell_type": "code",
   "execution_count": 11,
   "metadata": {},
   "outputs": [
    {
     "name": "stdout",
     "output_type": "stream",
     "text": [
      "Future Spot Exchange Rate (EUR/USD) after 3 months: 1.2299\n"
     ]
    }
   ],
   "source": [
    "\n",
    "#Simulate a future spot exchange rate for EUR/USD (randomly generated)\n",
    "\n",
    "np.random.seed(42)  #for reproducibility\n",
    "months = 12  # Simulating for 12 months\n",
    "mean_rate = 1.22  # Assume the expected average spot rate over time\n",
    "std_dev = 0.02  # Small volatility in the rate\n",
    "\n",
    "#Simulate using a normal distribution around the mean\n",
    "future_spot_rates = np.random.normal(loc=mean_rate, scale=std_dev, size=months)\n",
    "\n",
    "print(f\"Future Spot Exchange Rate (EUR/USD) after 3 months: {future_spot_rate:.4f}\")\n",
    "\n"
   ]
  },
  {
   "cell_type": "markdown",
   "metadata": {},
   "source": [
    "**6.Visualization**:"
   ]
  },
  {
   "cell_type": "code",
   "execution_count": 14,
   "metadata": {},
   "outputs": [
    {
     "data": {
      "image/png": "[encoded data removed]",
      "text/plain": [
       "<Figure size 1000x600 with 1 Axes>"
      ]
     },
     "metadata": {},
     "output_type": "display_data"
    }
   ],
   "source": [
    "import matplotlib.pyplot as plt\n",
    "\n",
    "# Plot the simulated future spot rates over 12 months\n",
    "plt.figure(figsize=(10, 6))\n",
    "plt.plot(range(1, months + 1), future_spot_rates, label=\"Simulated Spot Rates\", color='blue', marker='o')\n",
    "\n",
    "# Plot the predicted forward rate (constant line across all months)\n",
    "plt.axhline(y=moving_average_rate, color='red', linestyle='--', label=\"Predicted Forward Rate (2-MA)\")\n",
    "\n",
    "# Add labels and title\n",
    "plt.title(\"Simulated Spot Rates vs. Predicted Forward Rate\")\n",
    "plt.xlabel(\"Months\")\n",
    "plt.ylabel(\"EUR/USD Exchange Rate\")\n",
    "plt.legend()\n",
    "plt.grid(True)\n",
    "plt.show()\n"
   ]
  },
  {
   "cell_type": "markdown",
   "metadata": {},
   "source": [
    "As the graph shows:\n",
    "\n",
    "- Forward rate is fixed; it represents a contractual price agreed upon today for a future exchange. It reflects market expectations based on available information at the time of contract signing. It assumes that the spot rate and the interest rate differential between the two currencies are the main factors driving its calculation.Does not incorporate unexpected future shocks or volatility beyond what is captured in the forward pricing formula.\n",
    "\n",
    "- Simulated spot rate: accounts for uncertainty (modeling the rate as a random variable with some distribution)"
   ]
  },
  {
   "cell_type": "markdown",
   "metadata": {},
   "source": [
    "**7: Calculate the actual USD amount the company will receive (asset) or pay (liability) based on the future spot rate:**"
   ]
  },
  {
   "cell_type": "code",
   "execution_count": 16,
   "metadata": {},
   "outputs": [
    {
     "name": "stdout",
     "output_type": "stream",
     "text": [
      "Actual USD Received (at Future Spot Rate): $1,229,934.28\n"
     ]
    }
   ],
   "source": [
    "actual_usd_received = notional_amount_eur * future_spot_rate\n",
    "print(f\"Actual USD Received (at Future Spot Rate): ${actual_usd_received:,.2f}\")"
   ]
  },
  {
   "cell_type": "markdown",
   "metadata": {},
   "source": [
    "**8: Calculate Gain/Loss from hedging**"
   ]
  },
  {
   "cell_type": "code",
   "execution_count": 17,
   "metadata": {},
   "outputs": [
    {
     "name": "stdout",
     "output_type": "stream",
     "text": [
      "Gain from Hedging: $39,934.28\n"
     ]
    }
   ],
   "source": [
    "\n",
    "gain_or_loss = actual_usd_received - predicted_usd_received\n",
    "\n",
    "if gain_or_loss > 0:\n",
    "    print(f\"Gain from Hedging: ${gain_or_loss:,.2f}\")\n",
    "else:\n",
    "    print(f\"Loss from Hedging: ${-gain_or_loss:,.2f}\")"
   ]
  },
  {
   "cell_type": "markdown",
   "metadata": {},
   "source": [
    "\n",
    "### Explanation of the Code:\n",
    "- Calculate the average of the spot rates over the past months (in this case,2-mo rates: 1.18 and 1.20), which gives a predicted forward rate of **1.1900 USD/EUR**.\n",
    "- Predict it will receive **$1,190,000** when it exchanges **€1,000,000** at this rate.\n",
    "\n",
    "- **Hedging**: Hedging foreign exchange exposure by locking in the forward rate for €1,000,000.\n",
    "\n",
    "- **Forward Rate** represents the rate locked in today for future exchange, based on market expectations and the interest rate differential.\n",
    "- **Simulated Spot Rate**: Using a **normal distribution** to simulate a range of possible outcomes for the future spot rate, reflecting **uncertainty** and **volatility** in the market.\n",
    "- **Why Normal Distribution**: It’s a reasonable simplification to model random fluctuations in the exchange rate, capturing the idea that future spot rates can vary around a mean (the expected rate) with some random noise (volatility).\n",
    "- **Risk Assessment**: Simulating the future spot rate helps assess the potential **risk** (gain or loss) from the hedge, given that the forward rate may not be the rate at which the company will actually exchange currency in the future.\n",
    "\n",
    "- **Gain/Loss**: After 3 months, we compare the **actual amount** the company will receive based on the future spot rate vs. the **predicted amount** using the forward rate. The difference represents the **gain or loss** from the hedge. The company gains **$51,500** from the hedge because the spot rate in 3 months was better than the rate locked in the forward contract."
   ]
  }
 ],
 "metadata": {
  "kernelspec": {
   "display_name": "Python 3",
   "language": "python",
   "name": "python3"
  },
  "language_info": {
   "codemirror_mode": {
    "name": "ipython",
    "version": 3
   },
   "file_extension": ".py",
   "mimetype": "text/x-python",
   "name": "python",
   "nbconvert_exporter": "python",
   "pygments_lexer": "ipython3",
   "version": "3.9.6"
  }
 },
 "nbformat": 4,
 "nbformat_minor": 2
}
