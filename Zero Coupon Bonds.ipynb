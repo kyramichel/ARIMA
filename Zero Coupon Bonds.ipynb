{
 "cells": [
  {
   "cell_type": "markdown",
   "metadata": {},
   "source": [
    "\n",
    "# Zero Coupon Bonds\n",
    "\n",
    "\n",
    "Bonds are fixed-income securities that allow governments, companies and other types of issuers to borrow money from investors. \n",
    "\n",
    "\n",
    "Bonds Markets\n",
    "\n",
    "A debt market is where investors and traders buy and sell debt securities (bonds) that are issued by corporations or governments. \n",
    " \n",
    "\n",
    "Example: New York Stock Exchange https://www.nyse.com/products/bonds \n"
   ]
  },
  {
   "cell_type": "markdown",
   "metadata": {},
   "source": [
    "\n",
    "### Bond’s features include: \n",
    "\n",
    "the issuer, maturity, par value, coupon rate, frequency and the currency denomination. \n",
    "\n",
    "\n",
    "- The issuer of the bond (the borrower)\n",
    "\n",
    "-  Fixed maturity date (years)\n",
    "\n",
    "- Par value or face value or principal of a bond  is the amount that the issuer agrees to repay the bondholders on the maturity date (usually 100 or 1000) \n",
    "\n",
    "- required rate of return \n",
    "\n",
    "YTM: Yield Measures - there are many ways to measure the rate of return on a bond investment.\n",
    "\n",
    "\n",
    "- Coupon rate (%) of a bond is the interest rate the bond issuer agrees to pay each year until maturity (the coupon = annual amount of interest payments made) \n",
    "\n",
    "\n",
    "All bonds make periodic coupon payments, except zero-coupon bonds. \n",
    "\n",
    "\n",
    "Plain vanilla bonds are conventional bonds that pay a fixed rate of interest.\n",
    "\n",
    "Zero-coupons bond pay the bondholders no interest payments. The interest earned on a zero-coupon bond is implied and equal to the difference between the par value and the purchase price. \n",
    "\n",
    "Zero-coupon bonds trade on the major exchanges:\n",
    "\n",
    "- They often trade at deep discount that render a profits at maturity when the bonds are redeemed for their full face value.\n",
    "\n",
    "- Zero-coupon bonds (e.g. T bills) provide investors with a steady source of regular income\n",
    "\n",
    "- Since the value of zero coupon bonds is entirely based on the current price compared to face value,  their prices rise/fall faster when interest rates fall/rise. That makes zero-coupon bonds particularly useful to hedging stock portfolios.\n",
    "\n",
    "\n",
    "Notation:\n",
    "\n",
    "M = Maturity value or face value of the bond\n",
    "\n",
    "r = required rate of interest\n",
    "\n",
    "n = number of years to maturity\n",
    "\n",
    "\n",
    "\n",
    "**The price of a zero coupon bond can be calculated as:**\n",
    "\n",
    "$Price = \\frac{M}{(1 + r)^n}$\n",
    "\n",
    "\n",
    "\n",
    "**Zero-Coupon Bond Yield Formula**\n",
    "\n",
    "\n",
    "YTM = $(\\frac{M}{Price})^1/n - 1$\n",
    "\n",
    "\n"
   ]
  },
  {
   "cell_type": "markdown",
   "metadata": {},
   "source": [
    "### Defining  Zero-Coupon Bond Class:"
   ]
  },
  {
   "cell_type": "code",
   "execution_count": 1,
   "metadata": {},
   "outputs": [
    {
     "name": "stdout",
     "output_type": "stream",
     "text": [
      "Overwriting b0.py\n"
     ]
    }
   ],
   "source": [
    "%%writefile b0.py\n",
    "\n",
    "import math \n",
    "\n",
    "class ZeroBond:\n",
    "    def __init__(self, n, M):\n",
    "        self.n = n\n",
    "        self.M = M\n",
    "\n",
    "    def Price(self, r): #price\n",
    "        return self.M/math.pow(1+r,self.n)\n",
    "    \n",
    "    def YTM(self, Price): #Yield To Maturity\n",
    "        return math.pow(self.M/Price, 1/self.n) - 1\n"
   ]
  },
  {
   "cell_type": "code",
   "execution_count": 44,
   "metadata": {},
   "outputs": [],
   "source": [
    "import b0\n",
   ]
  },
  {
   "cell_type": "markdown",
   "metadata": {},
   "source": [
    "### Example 1:\n",
    "\n",
    "Suppose an investor wants to make a 7% return on a zero-coupon bond with $30,000 par value, that's due to mature in 3 years. The investor will be willing to pay the following price:"
   ]
  },
  {
   "cell_type": "code",
   "execution_count": 3,
   "metadata": {},
   "outputs": [
    {
     "data": {
      "text/plain": [
       "24488.936306725558"
      ]
     },
     "execution_count": 3,
     "metadata": {},
     "output_type": "execute_result"
    }
   ],
   "source": [
    "price = b0.ZeroBond(3,30000).Price(0.07)\n",
    "price"
   ]
  },
  {
   "cell_type": "markdown",
   "metadata": {},
   "source": [
    "If the debtor accepts this offer, the bond will be sold to the investor at the price =  = 81.62% of the face value:"
   ]
  },
  {
   "cell_type": "code",
   "execution_count": 7,
   "metadata": {},
   "outputs": [
    {
     "data": {
      "text/plain": [
       "81.62978768908519"
      ]
     },
     "execution_count": 7,
     "metadata": {},
     "output_type": "execute_result"
    }
   ],
   "source": [
    "price/30000 *100"
   ]
  },
  {
   "cell_type": "markdown",
   "metadata": {},
   "source": [
    "Upon maturity, the investor gains:"
   ]
  },
  {
   "cell_type": "code",
   "execution_count": 8,
   "metadata": {},
   "outputs": [
    {
     "data": {
      "text/plain": [
       "5511.063693274442"
      ]
     },
     "execution_count": 8,
     "metadata": {},
     "output_type": "execute_result"
    }
   ],
   "source": [
    "30000 - price "
   ]
  },
  {
   "cell_type": "markdown",
   "metadata": {},
   "source": [
    " which translates to 6% interest/year."
   ]
  },
  {
   "cell_type": "markdown",
   "metadata": {},
   "source": [
    "### Example 2:\n",
    "\n",
    "Suppose a $1,000 zero-coupon bond that has 2 years until maturity. \n",
    "\n",
    "The bond is currently valued at $900, the price at which it could be purchased today. \n"
   ]
  },
  {
   "cell_type": "code",
   "execution_count": 16,
   "metadata": {},
   "outputs": [
    {
     "data": {
      "text/plain": [
       "0.05409255338945984"
      ]
     },
     "execution_count": 16,
     "metadata": {},
     "output_type": "execute_result"
    }
   ],
   "source": [
    "ytm = b0.ZeroBond(2,1000).YTM(900)\n",
    "ytm"
   ]
  },
  {
   "cell_type": "markdown",
   "metadata": {},
   "source": [
    "When rounded and listed we get a yield of 5.4%."
   ]
  }
 ],
 "metadata": {
  "kernelspec": {
   "display_name": "Python 3",
   "language": "python",
   "name": "python3"
  },
  "language_info": {
   "codemirror_mode": {
    "name": "ipython",
    "version": 3
   },
   "file_extension": ".py",
   "mimetype": "text/x-python",
   "name": "python",
   "nbconvert_exporter": "python",
   "pygments_lexer": "ipython3",
   "version": "3.8.3"
  }
 },
 "nbformat": 4,
 "nbformat_minor": 4
}
